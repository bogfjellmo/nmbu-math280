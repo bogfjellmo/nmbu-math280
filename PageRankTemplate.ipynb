{
 "cells": [
  {
   "cell_type": "markdown",
   "metadata": {},
   "source": [
    "# Problem 1: PageRank\n",
    "\n",
    "First, we need to import numpy to get access to all the functions we need:"
   ]
  },
  {
   "cell_type": "code",
   "execution_count": 1,
   "metadata": {},
   "outputs": [],
   "source": [
    "import numpy as np"
   ]
  },
  {
   "cell_type": "markdown",
   "metadata": {},
   "source": [
    "We now import the adjacency matrix from the example. It is stored in `adjacency_example.txt`."
   ]
  },
  {
   "cell_type": "code",
   "execution_count": 2,
   "metadata": {},
   "outputs": [
    {
     "ename": "ImportError",
     "evalue": "cannot import name 'fetch' from 'js' (C:\\NMBU\\Miniconda3\\lib\\site-packages\\js\\__init__.py)",
     "output_type": "error",
     "traceback": [
      "\u001b[1;31m---------------------------------------------------------------------------\u001b[0m",
      "\u001b[1;31mImportError\u001b[0m                               Traceback (most recent call last)",
      "\u001b[1;32m<ipython-input-2-ea2acfa2a8e7>\u001b[0m in \u001b[0;36m<module>\u001b[1;34m\u001b[0m\n\u001b[0;32m      1\u001b[0m \u001b[1;31m### Hack for JupyterLite\u001b[0m\u001b[1;33m\u001b[0m\u001b[1;33m\u001b[0m\u001b[1;33m\u001b[0m\u001b[0m\n\u001b[1;32m----> 2\u001b[1;33m \u001b[1;32mfrom\u001b[0m \u001b[0mjs\u001b[0m \u001b[1;32mimport\u001b[0m \u001b[0mfetch\u001b[0m\u001b[1;33m\u001b[0m\u001b[1;33m\u001b[0m\u001b[0m\n\u001b[0m\u001b[0;32m      3\u001b[0m \u001b[1;33m\u001b[0m\u001b[0m\n\u001b[0;32m      4\u001b[0m \u001b[0mURL\u001b[0m \u001b[1;33m=\u001b[0m \u001b[1;34m\"https://github.com/bogfjellmo/nmbu-math280/blob/main/content/PageRank/adjacency_example.txt\"\u001b[0m\u001b[1;33m\u001b[0m\u001b[1;33m\u001b[0m\u001b[0m\n\u001b[0;32m      5\u001b[0m \u001b[1;33m\u001b[0m\u001b[0m\n",
      "\u001b[1;31mImportError\u001b[0m: cannot import name 'fetch' from 'js' (C:\\NMBU\\Miniconda3\\lib\\site-packages\\js\\__init__.py)"
     ]
    }
   ],
   "source": [
    "### Hack for JupyterLite\n",
    "from js import fetch\n",
    "\n",
    "URL = \"https://github.com/bogfjellmo/nmbu-math280/blob/main/content/PageRank/adjacency_example.txt\"\n",
    "\n",
    "res = await fetch(URL)\n",
    "text = await res.text()\n",
    "\n",
    "with open('adjacency_example.txt') as f:\n",
    "    f.write(text)"
   ]
  },
  {
   "cell_type": "code",
   "execution_count": null,
   "metadata": {},
   "outputs": [],
   "source": [
    "A= np.loadtxt('adjacency_example.txt', dtype=int)\n",
    "print(A)"
   ]
  },
  {
   "cell_type": "markdown",
   "metadata": {},
   "source": [
    "## Task 1: Compute the transition matrix"
   ]
  },
  {
   "cell_type": "code",
   "execution_count": null,
   "metadata": {},
   "outputs": [],
   "source": [
    "def transition_matrix(A):\n",
    "    '''\n",
    "    transition_matrix(A):\n",
    "        Input: \n",
    "            A: Adjacency matrix \n",
    "        Output:\n",
    "            P: Transition matrix\n",
    "    '''\n",
    "    # Write your implementation here\n",
    "    return P"
   ]
  },
  {
   "cell_type": "markdown",
   "metadata": {},
   "source": [
    "Check if the transition_matrix function returns a stochastic matrix:"
   ]
  },
  {
   "cell_type": "code",
   "execution_count": null,
   "metadata": {},
   "outputs": [],
   "source": [
    "P=transition_matrix(A)\n",
    "np.allclose(np.sum(P, axis=0), 1) # Will return True if P is a stochastic matrix"
   ]
  },
  {
   "cell_type": "markdown",
   "metadata": {},
   "source": [
    "## Task 2: The power method\n",
    "Implement the power method. Your function should take as input the transition matrix, an initial vector of probabilities and the number of iterations of the power method should be used."
   ]
  },
  {
   "cell_type": "code",
   "execution_count": null,
   "metadata": {},
   "outputs": [],
   "source": [
    "def pow_method(P, v0, N):\n",
    "    '''\n",
    "    pow_method(P, v0, N):\n",
    "        Input: \n",
    "            P:   transition matrix\n",
    "            v0:  initial vector of probabilities\n",
    "            N:   number of iterations\n",
    "        Output:\n",
    "            v:   final vector of probabilities v=P^n * v0\n",
    "    '''\n",
    "    # Write your implementation here\n",
    "    return v"
   ]
  },
  {
   "cell_type": "markdown",
   "metadata": {},
   "source": [
    "### Testing the method"
   ]
  },
  {
   "cell_type": "code",
   "execution_count": null,
   "metadata": {},
   "outputs": [],
   "source": [
    "n = P.shape[0]    # The number of nodes\n",
    "v0 = np.ones(n)/n # initial probabilities: 1/n for every node\n",
    "N=100             # number of iterations\n",
    "\n",
    "v=pow_method(P,v0,N)\n",
    "print(v)"
   ]
  },
  {
   "cell_type": "markdown",
   "metadata": {},
   "source": [
    "If you have done everything correctly, the vector you get should be close to the exact steady-state vector\n",
    "$$ \\begin{aligned}\n",
    "\\mathbf{v}_{\\text{exact}}=&\\left[\\frac{1}{8}, \\frac{1}{4}, \\frac{5}{24}, \\frac{1}{6}, \\frac{1}{4}\\right]\\\\\n",
    "\\approx&[0.125, 0.25, 0.20833333, 0.16666667, 0.25 ].\n",
    "\\end{aligned}$$\n",
    "\n",
    "Increasing `N` should get you even closer to the exact vector."
   ]
  },
  {
   "cell_type": "markdown",
   "metadata": {},
   "source": [
    "## Task 3: NMBU Realtek\n",
    "In this section, you are going to test your implementation on a set of webpages and links. This set consists of webpages with an url starting with www.nmbu.no/fakultet/realtek and internal links between them (In January 2022). Webpages without any links have been removed.\n",
    "\n",
    "The adjacency matrix is stored in `adjacency_realtek.txt`, and the urls represented by each index in `keyvals.txt`.\n",
    "\n",
    "What are the top 5 webpages by PageRank on the RealTek webpages?\n",
    "\n",
    "Hint: `np.argsort` can be useful for answering this question."
   ]
  },
  {
   "cell_type": "code",
   "execution_count": null,
   "metadata": {},
   "outputs": [],
   "source": [
    "# Write your code here."
   ]
  },
  {
   "cell_type": "markdown",
   "metadata": {},
   "source": [
    "## Additional challenges and remarks (2 & 3 are beyond the curriculum of MATH280)\n",
    "\n",
    "1. Implement Adjustment 1 and 2 described in *Lay* Chapter 10.2.\n",
    "2. Our implementation only works for graphs with less than a few thousand nodes. For larger graphs, better implementations are needed. Adjacency matrices are usually sparse, that is, most of the entries are zero. Efficient matrix algorithms take advantage of this. In Python, the most used implementation of sparse matrices is scipy.sparse. See https://docs.scipy.org/doc/scipy/reference/sparse.html.\n",
    "3. Really efficient implementations of the PageRank algorithm never explicitly store the adjacency matrix or the transition matrix, neither as full nor sparse matrices. It is possible to compute a matrix-vector product $\\mathbf{P}\\mathbf{v}$ using only the adjacency list (https://en.wikipedia.org/wiki/Adjacency_list) of the graph."
   ]
  },
  {
   "cell_type": "code",
   "execution_count": null,
   "metadata": {},
   "outputs": [],
   "source": []
  }
 ],
 "metadata": {
  "kernelspec": {
   "display_name": "Python 3",
   "language": "python",
   "name": "python3"
  },
  "language_info": {
   "codemirror_mode": {
    "name": "ipython",
    "version": 3
   },
   "file_extension": ".py",
   "mimetype": "text/x-python",
   "name": "python",
   "nbconvert_exporter": "python",
   "pygments_lexer": "ipython3",
   "version": "3.8.5"
  }
 },
 "nbformat": 4,
 "nbformat_minor": 4
}
