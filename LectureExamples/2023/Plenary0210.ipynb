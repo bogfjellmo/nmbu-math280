{
 "cells": [
  {
   "cell_type": "code",
   "execution_count": 1,
   "id": "40795604",
   "metadata": {},
   "outputs": [],
   "source": [
    "import numpy as np"
   ]
  },
  {
   "cell_type": "markdown",
   "id": "9e8fbef7",
   "metadata": {},
   "source": [
    "5.9.26"
   ]
  },
  {
   "cell_type": "code",
   "execution_count": 2,
   "id": "deb22372",
   "metadata": {},
   "outputs": [],
   "source": [
    "P=np.array([[.9, .02, .08],[.02, .9, .02],[.08,.08,.9]])"
   ]
  },
  {
   "cell_type": "code",
   "execution_count": 3,
   "id": "efe59179",
   "metadata": {},
   "outputs": [
    {
     "data": {
      "text/plain": [
       "array([[0.9 , 0.02, 0.08],\n",
       "       [0.02, 0.9 , 0.02],\n",
       "       [0.08, 0.08, 0.9 ]])"
      ]
     },
     "execution_count": 3,
     "metadata": {},
     "output_type": "execute_result"
    }
   ],
   "source": [
    "P"
   ]
  },
  {
   "cell_type": "code",
   "execution_count": 7,
   "id": "467d01d9",
   "metadata": {},
   "outputs": [
    {
     "name": "stdout",
     "output_type": "stream",
     "text": [
      "[1.   0.82 0.88]\n",
      "[[-6.33750222e-01 -7.07106781e-01  7.07106781e-01]\n",
      " [-2.71607238e-01 -1.12331406e-15 -7.07106781e-01]\n",
      " [-7.24285968e-01  7.07106781e-01  1.21943009e-16]]\n"
     ]
    }
   ],
   "source": [
    "l, v =np.linalg.eig(P)\n",
    "print(l)\n",
    "print(v)"
   ]
  },
  {
   "cell_type": "code",
   "execution_count": 12,
   "id": "f00b36af",
   "metadata": {},
   "outputs": [],
   "source": [
    "w=v[:,0]"
   ]
  },
  {
   "cell_type": "code",
   "execution_count": 13,
   "id": "572e46b5",
   "metadata": {},
   "outputs": [
    {
     "data": {
      "text/plain": [
       "array([-0.63375022, -0.27160724, -0.72428597])"
      ]
     },
     "execution_count": 13,
     "metadata": {},
     "output_type": "execute_result"
    }
   ],
   "source": [
    "w"
   ]
  },
  {
   "cell_type": "code",
   "execution_count": 14,
   "id": "70bb5669",
   "metadata": {},
   "outputs": [],
   "source": [
    "q=w/sum(w)"
   ]
  },
  {
   "cell_type": "code",
   "execution_count": 15,
   "id": "0f1d2bec",
   "metadata": {},
   "outputs": [
    {
     "data": {
      "text/plain": [
       "array([0.38888889, 0.16666667, 0.44444444])"
      ]
     },
     "execution_count": 15,
     "metadata": {},
     "output_type": "execute_result"
    }
   ],
   "source": [
    "q"
   ]
  },
  {
   "cell_type": "code",
   "execution_count": null,
   "id": "894cfd90",
   "metadata": {},
   "outputs": [],
   "source": []
  }
 ],
 "metadata": {
  "kernelspec": {
   "display_name": "Python 3 (ipykernel)",
   "language": "python",
   "name": "python3"
  },
  "language_info": {
   "codemirror_mode": {
    "name": "ipython",
    "version": 3
   },
   "file_extension": ".py",
   "mimetype": "text/x-python",
   "name": "python",
   "nbconvert_exporter": "python",
   "pygments_lexer": "ipython3",
   "version": "3.9.16"
  }
 },
 "nbformat": 4,
 "nbformat_minor": 5
}
