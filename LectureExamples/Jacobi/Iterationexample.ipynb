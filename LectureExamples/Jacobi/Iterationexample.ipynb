{
 "cells": [
  {
   "cell_type": "code",
   "execution_count": 1,
   "id": "274154c1",
   "metadata": {},
   "outputs": [],
   "source": [
    "import numpy as np"
   ]
  },
  {
   "cell_type": "code",
   "execution_count": 13,
   "id": "145f1f5f",
   "metadata": {},
   "outputs": [],
   "source": [
    "x=0\n",
    "y=0\n",
    "z=0"
   ]
  },
  {
   "cell_type": "code",
   "execution_count": 25,
   "id": "0dac3c71",
   "metadata": {},
   "outputs": [
    {
     "name": "stdout",
     "output_type": "stream",
     "text": [
      "0.1556728559483953 0.32189971306732984 -0.43007916444045247\n"
     ]
    }
   ],
   "source": [
    "xnew=1/6*(-1+2*y-3*z)\n",
    "ynew=1/9*(2+3*x-z)\n",
    "znew=-1/7*(3-2*x+y)\n",
    "print(xnew, ynew, znew)\n",
    "x=xnew\n",
    "y=ynew\n",
    "z=znew"
   ]
  },
  {
   "cell_type": "code",
   "execution_count": null,
   "id": "becd0be4",
   "metadata": {},
   "outputs": [],
   "source": []
  }
 ],
 "metadata": {
  "kernelspec": {
   "display_name": "Python 3 (ipykernel)",
   "language": "python",
   "name": "python3"
  },
  "language_info": {
   "codemirror_mode": {
    "name": "ipython",
    "version": 3
   },
   "file_extension": ".py",
   "mimetype": "text/x-python",
   "name": "python",
   "nbconvert_exporter": "python",
   "pygments_lexer": "ipython3",
   "version": "3.9.7"
  }
 },
 "nbformat": 4,
 "nbformat_minor": 5
}
