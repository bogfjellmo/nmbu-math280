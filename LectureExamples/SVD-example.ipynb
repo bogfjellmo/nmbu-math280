{
 "cells": [
  {
   "cell_type": "code",
   "execution_count": 1,
   "metadata": {},
   "outputs": [
    {
     "name": "stdout",
     "output_type": "stream",
     "text": [
      "A:\n",
      " [[1. 1. 0. 0.]\n",
      " [0. 0. 1. 1.]\n",
      " [1. 1. 1. 1.]]\n",
      "U:\n",
      " [[ 4.08248290e-01  7.07106781e-01 -5.77350269e-01]\n",
      " [ 4.08248290e-01 -7.07106781e-01 -5.77350269e-01]\n",
      " [ 8.16496581e-01 -1.11022302e-16  5.77350269e-01]]\n",
      "s:\n",
      " [2.44948974e+00 1.41421356e+00 1.44766737e-16]\n",
      "V:\n",
      " [[ 5.00000000e-01  5.00000000e-01 -7.07106781e-01  7.13299383e-17]\n",
      " [ 5.00000000e-01  5.00000000e-01  7.07106781e-01 -7.13299383e-17]\n",
      " [ 5.00000000e-01 -5.00000000e-01 -1.57009246e-16 -7.07106781e-01]\n",
      " [ 5.00000000e-01 -5.00000000e-01 -1.57009246e-16  7.07106781e-01]]\n"
     ]
    }
   ],
   "source": [
    "import numpy as np\n",
    "\n",
    "\n",
    "A=np.array([[1.,1,0,0],\n",
    "            [0,0,1,1],\n",
    "            [1,1,1,1]])\n",
    "print(\"A:\\n\", A)\n",
    "\n",
    "U,s,VT=np.linalg.svd(A, full_matrices=True)\n",
    "V=VT.T\n",
    "print(\"U:\\n\", U)\n",
    "print(\"s:\\n\", s)\n",
    "print(\"V:\\n\", V)"
   ]
  },
  {
   "cell_type": "code",
   "execution_count": 2,
   "metadata": {},
   "outputs": [
    {
     "name": "stdout",
     "output_type": "stream",
     "text": [
      "Sigma:\n",
      " [[2.44948974e+00 0.00000000e+00 0.00000000e+00 0.00000000e+00]\n",
      " [0.00000000e+00 1.41421356e+00 0.00000000e+00 0.00000000e+00]\n",
      " [0.00000000e+00 0.00000000e+00 1.44766737e-16 0.00000000e+00]]\n"
     ]
    }
   ],
   "source": [
    "Sigma=np.zeros_like(A)\n",
    "Sigma[:len(s), :len(s)] = np.diag(s)\n",
    "print(\"Sigma:\\n\", Sigma)"
   ]
  },
  {
   "cell_type": "code",
   "execution_count": 3,
   "metadata": {},
   "outputs": [
    {
     "name": "stdout",
     "output_type": "stream",
     "text": [
      "U:\n",
      " [[ 4.08248290e-01  7.07106781e-01 -5.77350269e-01]\n",
      " [ 4.08248290e-01 -7.07106781e-01 -5.77350269e-01]\n",
      " [ 8.16496581e-01 -1.11022302e-16  5.77350269e-01]]\n",
      "s:\n",
      " [2.44948974e+00 1.41421356e+00 1.44766737e-16]\n",
      "V:\n",
      " [[ 5.00000000e-01  5.00000000e-01 -7.07106781e-01]\n",
      " [ 5.00000000e-01  5.00000000e-01  7.07106781e-01]\n",
      " [ 5.00000000e-01 -5.00000000e-01 -1.57009246e-16]\n",
      " [ 5.00000000e-01 -5.00000000e-01 -1.57009246e-16]]\n"
     ]
    }
   ],
   "source": [
    "U,s,VT=np.linalg.svd(A, full_matrices=False)\n",
    "V=VT.T\n",
    "print(\"U:\\n\", U)\n",
    "print(\"s:\\n\", s)\n",
    "print(\"V:\\n\", V)"
   ]
  },
  {
   "cell_type": "code",
   "execution_count": null,
   "metadata": {},
   "outputs": [],
   "source": []
  }
 ],
 "metadata": {
  "kernelspec": {
   "display_name": "math280",
   "language": "python",
   "name": "python3"
  },
  "language_info": {
   "codemirror_mode": {
    "name": "ipython",
    "version": 3
   },
   "file_extension": ".py",
   "mimetype": "text/x-python",
   "name": "python",
   "nbconvert_exporter": "python",
   "pygments_lexer": "ipython3",
   "version": "3.12.2"
  }
 },
 "nbformat": 4,
 "nbformat_minor": 2
}
