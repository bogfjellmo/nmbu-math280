{
 "cells": [
  {
   "cell_type": "code",
   "execution_count": 7,
   "metadata": {},
   "outputs": [],
   "source": [
    "import numpy as np\n",
    "import matplotlib.pyplot as plt"
   ]
  },
  {
   "cell_type": "code",
   "execution_count": 8,
   "metadata": {},
   "outputs": [
    {
     "name": "stdout",
     "output_type": "stream",
     "text": [
      "Matrix:\n",
      " [[1 1]\n",
      " [0 1]]\n",
      "Eigenvalues:\n",
      " [1. 1.]\n",
      "Eigenvectors:\n",
      " [[ 1. -1.]\n",
      " [ 0.  0.]]\n"
     ]
    }
   ],
   "source": [
    "# nondiagonalizable matrix:\n",
    "A = np.array([[1, 1], [0, 1]])\n",
    "l,v=np.linalg.eig(A)\n",
    "print('Matrix:\\n',A)\n",
    "print('Eigenvalues:\\n',l)\n",
    "print('Eigenvectors:\\n',v.round(5))"
   ]
  },
  {
   "cell_type": "code",
   "execution_count": 9,
   "metadata": {},
   "outputs": [
    {
     "name": "stdout",
     "output_type": "stream",
     "text": [
      "Matrix:\n",
      " [[ 1  1]\n",
      " [-1  1]]\n",
      "Eigenvalues:\n",
      " [1.+1.j 1.-1.j]\n",
      "Eigenvectors:\n",
      " [[0.70711+0.j      0.70711-0.j     ]\n",
      " [0.     +0.70711j 0.     -0.70711j]]\n"
     ]
    }
   ],
   "source": [
    "# matrix diagonalizable over C:\n",
    "A = np.array([[1, 1], [-1, 1]])\n",
    "l,v=np.linalg.eig(A)\n",
    "print('Matrix:\\n',A)\n",
    "print('Eigenvalues:\\n',l)\n",
    "print('Eigenvectors:\\n',v.round(5))"
   ]
  },
  {
   "cell_type": "code",
   "execution_count": 10,
   "metadata": {},
   "outputs": [
    {
     "name": "stdout",
     "output_type": "stream",
     "text": [
      "Matrix:\n",
      " [[1 2]\n",
      " [2 1]]\n",
      "Eigenvalues:\n",
      " [ 3. -1.]\n",
      "Eigenvectors:\n",
      " [[ 0.70711 -0.70711]\n",
      " [ 0.70711  0.70711]]\n"
     ]
    }
   ],
   "source": [
    "# symmetric matrix:\n",
    "A=np.array([[1,2],[2,1]])\n",
    "l,v=np.linalg.eig(A)\n",
    "print('Matrix:\\n',A)\n",
    "print('Eigenvalues:\\n',l)\n",
    "print('Eigenvectors:\\n',v.round(5))"
   ]
  },
  {
   "cell_type": "code",
   "execution_count": 11,
   "metadata": {},
   "outputs": [
    {
     "name": "stdout",
     "output_type": "stream",
     "text": [
      "[[1. 0.]\n",
      " [0. 1.]]\n"
     ]
    }
   ],
   "source": [
    "print(v.T@v)"
   ]
  },
  {
   "cell_type": "code",
   "execution_count": 12,
   "metadata": {},
   "outputs": [],
   "source": [
    "# symmetric matrix with repeated eigenvalues:\n",
    "\n",
    "A= np.array([[2,-1,-1], [-1,2,-1], [-1,-1,2]])\n",
    "l, v=np.linalg.eig(A)"
   ]
  },
  {
   "cell_type": "code",
   "execution_count": 16,
   "metadata": {},
   "outputs": [
    {
     "name": "stdout",
     "output_type": "stream",
     "text": [
      "Matrix:\n",
      " [[ 2 -1 -1]\n",
      " [-1  2 -1]\n",
      " [-1 -1  2]]\n",
      "Eigenvalues:\n",
      " [ 3. -0.  3.]\n",
      "Eigenvectors:\n",
      " [[ 0.8165  -0.57735  0.25359]\n",
      " [-0.40825 -0.57735 -0.79893]\n",
      " [-0.40825 -0.57735  0.54534]]\n"
     ]
    }
   ],
   "source": [
    "print('Matrix:\\n',A)\n",
    "print('Eigenvalues:\\n',l.round(5))\n",
    "print('Eigenvectors:\\n',v.round(5))"
   ]
  },
  {
   "cell_type": "code",
   "execution_count": 18,
   "metadata": {},
   "outputs": [
    {
     "name": "stdout",
     "output_type": "stream",
     "text": [
      "[ 2.44948974 -1.22474487 -1.22474487] [ 2.44948974 -1.22474487 -1.22474487]\n",
      "[ 0.00000000e+00  2.22044605e-16 -3.33066907e-16] [2.44678814e-16 2.44678814e-16 2.44678814e-16]\n",
      "[ 0.76078444 -2.39680122  1.63601679] [ 0.76078444 -2.39680122  1.63601679]\n"
     ]
    }
   ],
   "source": [
    "print(A@v[:,0], l[0]*v[:,0])\n",
    "print(A@v[:,1], l[1]*v[:,1])\n",
    "print(A@v[:,2], l[2]*v[:,2])"
   ]
  },
  {
   "cell_type": "code",
   "execution_count": null,
   "metadata": {},
   "outputs": [],
   "source": []
  }
 ],
 "metadata": {
  "kernelspec": {
   "display_name": "math280",
   "language": "python",
   "name": "python3"
  },
  "language_info": {
   "codemirror_mode": {
    "name": "ipython",
    "version": 3
   },
   "file_extension": ".py",
   "mimetype": "text/x-python",
   "name": "python",
   "nbconvert_exporter": "python",
   "pygments_lexer": "ipython3",
   "version": "3.10.13"
  }
 },
 "nbformat": 4,
 "nbformat_minor": 2
}
