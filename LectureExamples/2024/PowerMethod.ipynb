{
 "cells": [
  {
   "cell_type": "code",
   "execution_count": 2,
   "metadata": {},
   "outputs": [],
   "source": [
    "import numpy as np\n",
    "import matplotlib.pyplot as plt\n"
   ]
  },
  {
   "cell_type": "code",
   "execution_count": 3,
   "metadata": {},
   "outputs": [
    {
     "name": "stdout",
     "output_type": "stream",
     "text": [
      "[[1.   1.01]\n",
      " [0.99 1.3 ]]\n"
     ]
    }
   ],
   "source": [
    "A = np.array([[1, 1.01], [0.99, 1.3]])\n",
    "print(A)"
   ]
  },
  {
   "cell_type": "code",
   "execution_count": 4,
   "metadata": {},
   "outputs": [
    {
     "data": {
      "text/plain": [
       "(-1.0, 5.0)"
      ]
     },
     "execution_count": 4,
     "metadata": {},
     "output_type": "execute_result"
    },
    {
     "data": {
      "image/png": "[encoded data removed]",
      "text/plain": [
       "<Figure size 640x480 with 1 Axes>"
      ]
     },
     "metadata": {},
     "output_type": "display_data"
    }
   ],
   "source": [
    "x= np.array([1, 0])\n",
    "plt.plot([0,x[0]], [0,x[1]])\n",
    "for k in range(5):\n",
    "    x = A @ x\n",
    "    plt.plot([0,x[0]], [0,x[1]])\n",
    "\n",
    "plt.xlim(-1, 5)\n",
    "plt.ylim(-1, 5)"
   ]
  },
  {
   "cell_type": "code",
   "execution_count": 8,
   "metadata": {},
   "outputs": [
    {
     "name": "stdout",
     "output_type": "stream",
     "text": [
      "[1.   0.99]\n",
      "[0.87830479 1.        ]\n",
      "[0.87037837 1.        ]\n",
      "[0.86987116 1.        ]\n",
      "[0.86983857 1.        ]\n",
      "[0.86983648 1.        ]\n",
      "[0.86983635 1.        ]\n",
      "[0.86983634 1.        ]\n",
      "[0.86983634 1.        ]\n",
      "[0.86983634 1.        ]\n",
      "[0.86983634 1.        ]\n",
      "[0.86983634 1.        ]\n",
      "[0.86983634 1.        ] 2.1611379727813187\n"
     ]
    }
   ],
   "source": [
    "# Implementation of the Power Method:\n",
    "\n",
    "x0 = np.array([1, 0])\n",
    "Tol = 1e-12\n",
    "\n",
    "def power_method(A, x, Tol, max_iter=1000):\n",
    "    mu = x[np.argmax(np.abs(x))]\n",
    "    x=x/mu\n",
    "    for k in range(max_iter):\n",
    "        x_new = A @ x\n",
    "        mu=x_new[np.argmax(np.abs(x_new))]\n",
    "        x_new = x_new / mu\n",
    "        print(x_new)\n",
    "        if np.linalg.norm(x_new - x, np.inf) < Tol:\n",
    "            break\n",
    "        x = x_new\n",
    "    return x_new, mu\n",
    "\n",
    "x, mu = power_method(A, x0, Tol)\n",
    "\n",
    "print(x, mu)"
   ]
  },
  {
   "cell_type": "code",
   "execution_count": 9,
   "metadata": {},
   "outputs": [],
   "source": [
    "# Inverse Power Method:\n",
    "\n",
    "def inverse_power_method(A, x,alpha, Tol, max_iter=1000):\n",
    "    mu = x[np.argmax(np.abs(x))]\n",
    "    x = x / mu\n",
    "    I=np.eye(A.shape[0])\n",
    "    for k in range(max_iter):\n",
    "        x_new = np.linalg.solve(A-alpha*I, x)\n",
    "        mu = x_new[np.argmax(np.abs(x_new))]\n",
    "        x_new = x_new / mu\n",
    "        print(x_new)\n",
    "        if np.linalg.norm(x_new - x, np.inf) < Tol:\n",
    "            break\n",
    "        x = x_new\n",
    "    return x_new, alpha+1/mu"
   ]
  },
  {
   "cell_type": "code",
   "execution_count": 10,
   "metadata": {},
   "outputs": [
    {
     "name": "stdout",
     "output_type": "stream",
     "text": [
      "[ 1.         -0.76153846]\n",
      "[ 1.         -0.84649987]\n",
      "[ 1.         -0.85221801]\n",
      "[ 1.         -0.85258654]\n",
      "[ 1.         -0.85261023]\n",
      "[ 1.         -0.85261175]\n",
      "[ 1.         -0.85261185]\n",
      "[ 1.         -0.85261185]\n",
      "[ 1.         -0.85261185]\n",
      "[ 1.         -0.85261185]\n",
      "[ 1.         -0.85261185]\n",
      "[ 1.         -0.85261185]\n",
      "[ 1.         -0.85261185] 0.1388620272188444\n"
     ]
    }
   ],
   "source": [
    "x, mu = inverse_power_method(A, x0, 0, Tol)\n",
    "print(x, mu)"
   ]
  },
  {
   "cell_type": "code",
   "execution_count": null,
   "metadata": {},
   "outputs": [],
   "source": []
  }
 ],
 "metadata": {
  "kernelspec": {
   "display_name": "Python 3",
   "language": "python",
   "name": "python3"
  },
  "language_info": {
   "codemirror_mode": {
    "name": "ipython",
    "version": 3
   },
   "file_extension": ".py",
   "mimetype": "text/x-python",
   "name": "python",
   "nbconvert_exporter": "python",
   "pygments_lexer": "ipython3",
   "version": "3.10.13"
  }
 },
 "nbformat": 4,
 "nbformat_minor": 2
}
