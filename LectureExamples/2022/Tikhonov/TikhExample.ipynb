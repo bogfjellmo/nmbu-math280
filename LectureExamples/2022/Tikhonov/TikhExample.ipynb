{
 "cells": [
  {
   "cell_type": "code",
   "execution_count": 1,
   "id": "d5e08547",
   "metadata": {},
   "outputs": [],
   "source": [
    "import numpy as np\n",
    "import matplotlib.pyplot as plt"
   ]
  },
  {
   "cell_type": "markdown",
   "id": "ebce6901",
   "metadata": {},
   "source": [
    "We are studying the problem of determining the coefficients of a polynomial \n",
    "$$p(t)=c_0+c_1t+\\dotsc + c_n t^n,$$ \n",
    "given its values in $m+1$ distinct points\n",
    "$$b_0 = p(t_0), b_1=p(t_1), \\dotsc, b_m=p(t_m).$$\n",
    "\n",
    "The problem reduces to solving a linear equation $A\\mathbf{c}=\\mathbf{b}$\n",
    "where $A$ is a $(m+1)\\times (n+1)$ matrix:\n",
    "\n",
    "$$A = \\begin{bmatrix} \n",
    "1 & t_0 & t_0^2 & \\dots & t_0^n \\\\\n",
    "1 & t_1 & \\ddots & & \\vdots \\\\\n",
    "\\vdots & \\vdots & &\\ddots & \\vdots \\\\\n",
    "1 & t_m & \\dots & & t_m^n\n",
    "\\end{bmatrix}\n",
    "$$\n",
    "\n",
    "The nature of this equation depends on $m$ and $n$:\n",
    " * If $m<n$: Underdetermined, infinitely many solutions\n",
    " * If $m=n$: Unique solution, but usually  **ill conditioned.**\n",
    " * If $m>n$: Overdetermined. Least squares problem is ill conditioned.\n",
    " \n",
    "The large condition number means that the computed coefficients are extremely sensitive to small perturbations in $\\mathbf{b}$.\n"
   ]
  },
  {
   "cell_type": "code",
   "execution_count": 16,
   "id": "f7e2ed63",
   "metadata": {},
   "outputs": [],
   "source": [
    "def poly(c, t):\n",
    "    # evaluates c[0]+c[1]t+...+c[n]t^n in points given by t.\n",
    "    return np.polyval(np.flip(c),t)\n",
    "\n",
    "def mystr(z): #formatting function\n",
    "    return np.array2string(z, precision=3)\n",
    "  "
   ]
  },
  {
   "cell_type": "code",
   "execution_count": 57,
   "id": "c36d99bf",
   "metadata": {},
   "outputs": [
    {
     "name": "stdout",
     "output_type": "stream",
     "text": [
      "c = [ 0.469 -1.07  -0.64   0.838 -0.801  1.897  0.251  1.044]\n"
     ]
    }
   ],
   "source": [
    "n=7\n",
    "m=7\n",
    "\n",
    "c=np.random.randn(n+1) #random coefficients\n",
    "print('c = '+mystr(c))\n",
    "t = np.linspace(0,1,m+1) #samples uniformly distributed on [0,1]\n",
    "b=poly(c,t) #evaluate polynomial in sample points\n",
    "\n",
    "tplot =  np.linspace(-0.1,1.1, 10*m+1) # finer grid for plotting\n",
    "pplot = poly(c, tplot)"
   ]
  },
  {
   "cell_type": "code",
   "execution_count": 58,
   "id": "c5baa0b7",
   "metadata": {},
   "outputs": [
    {
     "data": {
      "text/plain": [
       "[<matplotlib.lines.Line2D at 0x1a6359a44c0>,\n",
       " <matplotlib.lines.Line2D at 0x1a6359a44f0>]"
      ]
     },
     "execution_count": 58,
     "metadata": {},
     "output_type": "execute_result"
    },
    {
     "data": {
      "image/png": "[encoded data removed]",
      "text/plain": [
       "<Figure size 432x288 with 1 Axes>"
      ]
     },
     "metadata": {
      "needs_background": "light"
     },
     "output_type": "display_data"
    }
   ],
   "source": [
    "plt.plot( tplot, pplot, t, b, 'o')"
   ]
  },
  {
   "cell_type": "code",
   "execution_count": 59,
   "id": "8640b974",
   "metadata": {},
   "outputs": [
    {
     "name": "stdout",
     "output_type": "stream",
     "text": [
      "Singular values: [3.964e+00 1.805e+00 5.561e-01 1.358e-01 2.618e-02 3.750e-03 3.471e-04\n",
      " 1.480e-05]\n",
      "cond(A) = 267816.701\n"
     ]
    }
   ],
   "source": [
    "A=np.stack(list(t**k for k in range(n+1))).T\n",
    "s=np.linalg.svd(A, compute_uv=False)\n",
    "print('Singular values: ' + mystr(s))\n",
    "print('cond(A) = '+mystr(np.linalg.cond(A)))"
   ]
  },
  {
   "cell_type": "markdown",
   "id": "42acc352",
   "metadata": {},
   "source": [
    "We use np.linalg.lstsq to solve the problem"
   ]
  },
  {
   "cell_type": "code",
   "execution_count": 60,
   "id": "b87b4880",
   "metadata": {
    "scrolled": true
   },
   "outputs": [
    {
     "name": "stdout",
     "output_type": "stream",
     "text": [
      "True solution\t\t c=[ 0.469 -1.07  -0.64   0.838 -0.801  1.897  0.251  1.044]\n",
      "Computed solution\t x=[ 0.469 -1.07  -0.64   0.838 -0.801  1.897  0.251  1.044]\n",
      "\n",
      "Relative error:2.021e-12\n"
     ]
    }
   ],
   "source": [
    "x0=np.linalg.lstsq(A,b, rcond=None)[0]\n",
    "print('True solution\\t\\t c='+mystr(c))\n",
    "print('Computed solution\\t x='+mystr(x0) +'\\n')\n",
    "print('Relative error:' +mystr(np.linalg.norm(x0-c)/np.linalg.norm(c)))"
   ]
  },
  {
   "cell_type": "markdown",
   "id": "c3e60bfe",
   "metadata": {},
   "source": [
    "Looks pretty good, but what if there is noise in our data?"
   ]
  },
  {
   "cell_type": "code",
   "execution_count": 61,
   "id": "28d660ae",
   "metadata": {},
   "outputs": [
    {
     "name": "stdout",
     "output_type": "stream",
     "text": [
      "Relative change: 0.013\n"
     ]
    }
   ],
   "source": [
    "bp=b+0.01*np.random.randn(m+1) # add random noise\n",
    "print('Relative change: ' +mystr(np.linalg.norm(bp-b)/np.linalg.norm(b)))"
   ]
  },
  {
   "cell_type": "code",
   "execution_count": 62,
   "id": "5c18e28e",
   "metadata": {},
   "outputs": [
    {
     "data": {
      "text/plain": [
       "[<matplotlib.lines.Line2D at 0x1a635a076d0>,\n",
       " <matplotlib.lines.Line2D at 0x1a635a07700>]"
      ]
     },
     "execution_count": 62,
     "metadata": {},
     "output_type": "execute_result"
    },
    {
     "data": {
      "image/png": "[encoded data removed]",
      "text/plain": [
       "<Figure size 432x288 with 1 Axes>"
      ]
     },
     "metadata": {
      "needs_background": "light"
     },
     "output_type": "display_data"
    }
   ],
   "source": [
    "plt.plot( tplot, pplot, t, bp, 'o')"
   ]
  },
  {
   "cell_type": "markdown",
   "id": "0fb4d27f",
   "metadata": {},
   "source": [
    "Try to solve it with lstsq"
   ]
  },
  {
   "cell_type": "code",
   "execution_count": 64,
   "id": "57840ac1",
   "metadata": {},
   "outputs": [
    {
     "name": "stdout",
     "output_type": "stream",
     "text": [
      "True solution\n",
      " c=[ 0.469 -1.07  -0.64   0.838 -0.801  1.897  0.251  1.044]\n",
      "Computed solution\n",
      " x=[ 4.808e-01  2.912e-01 -2.360e+01  1.360e+02 -3.790e+02  5.489e+02\n",
      " -3.947e+02  1.137e+02]\n",
      "\n",
      "Relative error: 282.881\n"
     ]
    }
   ],
   "source": [
    "x=np.linalg.lstsq(A,bp, rcond=None)[0]\n",
    "print('True solution\\n c='+mystr(c))\n",
    "print('Computed solution\\n x='+mystr(x))\n",
    "print('\\nRelative error: ' +mystr(np.linalg.norm(x-c)/np.linalg.norm(c)))"
   ]
  },
  {
   "cell_type": "markdown",
   "id": "02688c02",
   "metadata": {},
   "source": [
    "Relative error in the computed $\\mathbf{x}$ is large, but how do the polynomials look?"
   ]
  },
  {
   "cell_type": "code",
   "execution_count": 65,
   "id": "a1edc8a6",
   "metadata": {
    "scrolled": true
   },
   "outputs": [
    {
     "data": {
      "text/plain": [
       "<matplotlib.legend.Legend at 0x1a635943a30>"
      ]
     },
     "execution_count": 65,
     "metadata": {},
     "output_type": "execute_result"
    },
    {
     "data": {
      "image/png": "[encoded data removed]",
      "text/plain": [
       "<Figure size 432x288 with 1 Axes>"
      ]
     },
     "metadata": {
      "needs_background": "light"
     },
     "output_type": "display_data"
    }
   ],
   "source": [
    "plt.plot(tplot, poly(x, tplot), tplot, pplot, t, bp, 'o')\n",
    "plt.legend(['$p_x(t)$', '$p_c(t)$', 'Samples'])"
   ]
  },
  {
   "cell_type": "code",
   "execution_count": 73,
   "id": "4dfe0755",
   "metadata": {},
   "outputs": [
    {
     "data": {
      "text/plain": [
       "<matplotlib.legend.Legend at 0x1a636b1fb50>"
      ]
     },
     "execution_count": 73,
     "metadata": {},
     "output_type": "execute_result"
    },
    {
     "data": {
      "image/png": "[encoded data removed]",
      "text/plain": [
       "<Figure size 432x288 with 1 Axes>"
      ]
     },
     "metadata": {
      "needs_background": "light"
     },
     "output_type": "display_data"
    }
   ],
   "source": [
    "plt.plot(tplot,poly(c-x, tplot))\n",
    "plt.legend(['$p_c(t)-p_x(t)$'])"
   ]
  },
  {
   "cell_type": "code",
   "execution_count": 74,
   "id": "f0cd7e6f",
   "metadata": {},
   "outputs": [],
   "source": [
    "def tikhonov(A, b, l):\n",
    "    u,s,vh=np.linalg.svd(A, full_matrices=False)\n",
    "    d=s/(s**2+l)\n",
    "    x=(vh.T*d)@(u.T@b)\n",
    "    return x"
   ]
  },
  {
   "cell_type": "code",
   "execution_count": 75,
   "id": "ed84e2ce",
   "metadata": {},
   "outputs": [
    {
     "name": "stdout",
     "output_type": "stream",
     "text": [
      "Without noise:\n",
      "True solution\n",
      " c=[ 0.469 -1.07  -0.64   0.838 -0.801  1.897  0.251  1.044]\n",
      "Computed solution\n",
      " x=[ 0.469 -1.091 -0.439  0.123  0.472  0.69   0.832  0.932]\n",
      "\n",
      "Relative error: 0.711\n",
      "\n",
      "\n",
      "With noise:\n",
      "True solution\n",
      " c=[ 0.469 -1.07  -0.64   0.838 -0.801  1.897  0.251  1.044]\n",
      "Computed solution\n",
      " xp=[ 0.479 -1.153 -0.227 -0.033  0.329  0.673  0.9    1.012]\n",
      "\n",
      "Relative error: 0.725\n",
      "\n",
      "Relative change in solution: 0.165\n"
     ]
    }
   ],
   "source": [
    "xt=tikhonov(A, b, 1e-4)\n",
    "xtp=tikhonov(A, bp, 1e-4)\n",
    "print('Without noise:')\n",
    "print('True solution\\n c='+mystr(c))\n",
    "print('Computed solution\\n x='+mystr(xt) +'\\n')\n",
    "print('Relative error: ' +mystr(np.linalg.norm(xt-c)/np.linalg.norm(c)))\n",
    "\n",
    "print('\\n\\nWith noise:')\n",
    "print('True solution\\n c='+mystr(c))\n",
    "print('Computed solution\\n xp='+mystr(xtp) +'\\n')\n",
    "print('Relative error: ' +mystr(np.linalg.norm(xtp-c)/np.linalg.norm(c)))\n",
    "\n",
    "print('\\nRelative change in solution: '+ mystr(np.linalg.norm(xtp-xt)/np.linalg.norm(xt)))"
   ]
  },
  {
   "cell_type": "code",
   "execution_count": 76,
   "id": "a87d0c53",
   "metadata": {},
   "outputs": [
    {
     "data": {
      "text/plain": [
       "<matplotlib.legend.Legend at 0x1a637188e50>"
      ]
     },
     "execution_count": 76,
     "metadata": {},
     "output_type": "execute_result"
    },
    {
     "data": {
      "image/png": "[encoded data removed]",
      "text/plain": [
       "<Figure size 432x288 with 1 Axes>"
      ]
     },
     "metadata": {
      "needs_background": "light"
     },
     "output_type": "display_data"
    }
   ],
   "source": [
    "plt.plot(tplot, poly(xt, tplot), tplot, pplot, t, bp, 'o')\n",
    "plt.legend(['$p_x(t)$', '$p_c(t)$', 'Samples'])"
   ]
  },
  {
   "cell_type": "code",
   "execution_count": 78,
   "id": "dca10750",
   "metadata": {},
   "outputs": [
    {
     "data": {
      "text/plain": [
       "<matplotlib.legend.Legend at 0x1a636edd850>"
      ]
     },
     "execution_count": 78,
     "metadata": {},
     "output_type": "execute_result"
    },
    {
     "data": {
      "image/png": "[encoded data removed]",
      "text/plain": [
       "<Figure size 432x288 with 1 Axes>"
      ]
     },
     "metadata": {
      "needs_background": "light"
     },
     "output_type": "display_data"
    }
   ],
   "source": [
    "plt.plot(tplot,poly(c-xt, tplot))\n",
    "plt.legend(['$p_c(t)-p_x(t)$'])"
   ]
  },
  {
   "cell_type": "markdown",
   "id": "7efa8e79",
   "metadata": {},
   "source": [
    "# Tikhonov vs Min-norm Least squares \n",
    "\n",
    "As shown in the lecture, in Tikhonov regularization, we 'approximate' $\\frac{1}{\\sigma}$ with $\\frac{\\sigma}{\\sigma^2+\\alpha}$. Here is a plot of the two functions"
   ]
  },
  {
   "cell_type": "code",
   "execution_count": 84,
   "id": "b29a6b93",
   "metadata": {},
   "outputs": [
    {
     "name": "stderr",
     "output_type": "stream",
     "text": [
      "C:\\NMBU\\TEMP/ipykernel_8728/177869755.py:4: RuntimeWarning: divide by zero encountered in true_divide\n",
      "  ssinv=1/ss\n"
     ]
    },
    {
     "data": {
      "text/plain": [
       "<matplotlib.legend.Legend at 0x1a637240ca0>"
      ]
     },
     "execution_count": 84,
     "metadata": {},
     "output_type": "execute_result"
    },
    {
     "data": {
      "image/png": "[encoded data removed]",
      "text/plain": [
       "<Figure size 432x288 with 1 Axes>"
      ]
     },
     "metadata": {
      "needs_background": "light"
     },
     "output_type": "display_data"
    }
   ],
   "source": [
    "alpha=1e-4\n",
    "\n",
    "ss=np.linspace(0,0.2,1000)\n",
    "ssinv=1/ss\n",
    "#ssinv[0]=0\n",
    "sstikh = ss/(ss**2+alpha)\n",
    "plt.plot(ss, ssinv, ss, sstikh)\n",
    "plt.ylim(0, alpha**-.5)\n",
    "plt.legend(['MNLS', 'Tikhonov'])"
   ]
  },
  {
   "cell_type": "code",
   "execution_count": null,
   "id": "4b8cade4",
   "metadata": {},
   "outputs": [],
   "source": []
  },
  {
   "cell_type": "code",
   "execution_count": null,
   "id": "5baa985c",
   "metadata": {},
   "outputs": [],
   "source": []
  }
 ],
 "metadata": {
  "kernelspec": {
   "display_name": "Python 3 (ipykernel)",
   "language": "python",
   "name": "python3"
  },
  "language_info": {
   "codemirror_mode": {
    "name": "ipython",
    "version": 3
   },
   "file_extension": ".py",
   "mimetype": "text/x-python",
   "name": "python",
   "nbconvert_exporter": "python",
   "pygments_lexer": "ipython3",
   "version": "3.9.7"
  }
 },
 "nbformat": 4,
 "nbformat_minor": 5
}
