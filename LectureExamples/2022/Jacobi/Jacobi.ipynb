{
 "cells": [
  {
   "cell_type": "code",
   "execution_count": 1,
   "id": "c8b2c6fa",
   "metadata": {},
   "outputs": [],
   "source": [
    "import numpy as np"
   ]
  },
  {
   "cell_type": "code",
   "execution_count": 11,
   "id": "155fbfe5",
   "metadata": {},
   "outputs": [],
   "source": [
    "def Jacobi(A,b,k):\n",
    "    n = b.shape[0]\n",
    "    x = np.zeros(n)\n",
    "    \n",
    "    d=np.diagonal(A)\n",
    "    N=np.diag(d)-A\n",
    "    \n",
    "    it=0\n",
    "    for i in range(k): # Do this k times\n",
    "        x=(b+N@x)/d\n",
    "    return x"
   ]
  },
  {
   "cell_type": "code",
   "execution_count": 2,
   "id": "8c4377a6",
   "metadata": {},
   "outputs": [
    {
     "name": "stdout",
     "output_type": "stream",
     "text": [
      "[[ 6 -2  3]\n",
      " [-3  9  1]\n",
      " [ 2 -1 -7]]\n",
      "[-1  2  3]\n"
     ]
    }
   ],
   "source": [
    "A=np.array([[ 6, -2,  3], \n",
    "            [-3,  9,  1], \n",
    "            [ 2, -1, -7]])\n",
    "b=np.array([-1, 2, 3])\n",
    "print(A)\n",
    "print(b)"
   ]
  },
  {
   "cell_type": "code",
   "execution_count": 4,
   "id": "caf647f7",
   "metadata": {},
   "outputs": [
    {
     "name": "stdout",
     "output_type": "stream",
     "text": [
      "[ 6  9 -7]\n"
     ]
    }
   ],
   "source": [
    "d=np.diagonal(A)\n",
    "print(d)"
   ]
  },
  {
   "cell_type": "code",
   "execution_count": 6,
   "id": "a94ea08a",
   "metadata": {},
   "outputs": [
    {
     "data": {
      "text/plain": [
       "array([[ 6,  0,  0],\n",
       "       [ 0,  9,  0],\n",
       "       [ 0,  0, -7]])"
      ]
     },
     "execution_count": 6,
     "metadata": {},
     "output_type": "execute_result"
    }
   ],
   "source": [
    "np.diag(d)"
   ]
  },
  {
   "cell_type": "code",
   "execution_count": 10,
   "id": "eb345c9b",
   "metadata": {},
   "outputs": [
    {
     "name": "stdout",
     "output_type": "stream",
     "text": [
      "[[ 0  2 -3]\n",
      " [ 3  0 -1]\n",
      " [-2  1  0]]\n"
     ]
    }
   ],
   "source": [
    "N=np.diag(d)-A\n",
    "print(N)"
   ]
  },
  {
   "cell_type": "code",
   "execution_count": 13,
   "id": "316bcb21",
   "metadata": {},
   "outputs": [
    {
     "name": "stdout",
     "output_type": "stream",
     "text": [
      "[ 0.15567241  0.32190037 -0.43007845]\n",
      "[-1.66849459e-06  7.69463554e-06 -6.39906572e-06]\n"
     ]
    }
   ],
   "source": [
    "x=Jacobi(A,b,10)\n",
    "print(x)\n",
    "print(A@x-b)"
   ]
  },
  {
   "cell_type": "code",
   "execution_count": 20,
   "id": "c2735c9c",
   "metadata": {},
   "outputs": [
    {
     "data": {
      "text/plain": [
       "(array([ 0.18611987,  0.33123028, -0.42271293]), 20)"
      ]
     },
     "execution_count": 20,
     "metadata": {},
     "output_type": "execute_result"
    }
   ],
   "source": [
    "def Jacobi_criterion(A,b):\n",
    "    n = b.shape[0]\n",
    "    x = np.zeros(n)\n",
    "    \n",
    "    \n",
    "    tol = 1e-10\n",
    "    maxit=100\n",
    "    \n",
    "    d=np.diagonal(A)\n",
    "    N=A-np.diag(d)\n",
    "\n",
    "    rem=np.linalg.norm(b-A@x)\n",
    "    \n",
    "    it=0\n",
    "    while rem>tol and it<maxit:\n",
    "        x=(b-N@x)/d\n",
    "        rem=np.linalg.norm(b-A@x)\n",
    "        it=it+1\n",
    "    \n",
    "    return x, it\n",
    "       "
   ]
  },
  {
   "cell_type": "code",
   "execution_count": null,
   "id": "d028cb24",
   "metadata": {},
   "outputs": [],
   "source": []
  }
 ],
 "metadata": {
  "kernelspec": {
   "display_name": "Python 3 (ipykernel)",
   "language": "python",
   "name": "python3"
  },
  "language_info": {
   "codemirror_mode": {
    "name": "ipython",
    "version": 3
   },
   "file_extension": ".py",
   "mimetype": "text/x-python",
   "name": "python",
   "nbconvert_exporter": "python",
   "pygments_lexer": "ipython3",
   "version": "3.9.7"
  }
 },
 "nbformat": 4,
 "nbformat_minor": 5
}
