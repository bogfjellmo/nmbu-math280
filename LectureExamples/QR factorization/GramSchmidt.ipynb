{
 "cells": [
  {
   "cell_type": "code",
   "execution_count": null,
   "id": "9cbe8b65",
   "metadata": {},
   "outputs": [],
   "source": [
    "import numpy as np"
   ]
  },
  {
   "cell_type": "markdown",
   "id": "de4ebb09",
   "metadata": {},
   "source": [
    "Illustration of the Gram-Schmidt process with three vectors in $\\mathbb{R}^5$. This version of the process produces orthonormal vectors."
   ]
  },
  {
   "cell_type": "code",
   "execution_count": null,
   "id": "08a3a0ca",
   "metadata": {},
   "outputs": [],
   "source": [
    "x1=np.array([1.,1.,1.,1.,1.]) \n",
    "x2=np.array([0.,1.,2.,3.,4.])\n",
    "x3=np.array([0.,1.,4.,9.,16.])"
   ]
  },
  {
   "cell_type": "code",
   "execution_count": null,
   "id": "15f930f1",
   "metadata": {},
   "outputs": [],
   "source": [
    "v1=x1\n",
    "c1=np.linalg.norm(v1)\n",
    "v1/=c1\n",
    "print(v1)"
   ]
  },
  {
   "cell_type": "code",
   "execution_count": null,
   "id": "77b5f12a",
   "metadata": {},
   "outputs": [],
   "source": [
    "v2=x2-(x2@v1)*v1\n",
    "c2=np.linalg.norm(v2)\n",
    "v2/=c2\n",
    "print(v2)"
   ]
  },
  {
   "cell_type": "code",
   "execution_count": null,
   "id": "f436ac10",
   "metadata": {},
   "outputs": [],
   "source": [
    "v3=x3-(x3@v1)*v1-(x3@v2)*v2\n",
    "c3=np.linalg.norm(v3)\n",
    "v3/=c3\n",
    "print(v3)"
   ]
  },
  {
   "cell_type": "code",
   "execution_count": null,
   "id": "a1836d25",
   "metadata": {},
   "outputs": [],
   "source": [
    "Q=np.stack((v1,v2,v3)).T\n",
    "Q.T@Q"
   ]
  },
  {
   "cell_type": "markdown",
   "id": "95fee375",
   "metadata": {},
   "source": [
    "Implementation of the Gram Schmidt process for QR factorization."
   ]
  },
  {
   "cell_type": "code",
   "execution_count": null,
   "id": "fa377a8c",
   "metadata": {},
   "outputs": [],
   "source": [
    "def GramSchmidt(A):\n",
    "    # GramSchmidt(A):\n",
    "    # Input: \n",
    "    #          A    mxn matrix with linearly independent columns\n",
    "    # Output:\n",
    "    #          Q    mxn matrix with orthonormal columns. Col(Q)=Col(A)\n",
    "    #          R    nxn upper triangular matrix such that A = Q*R.\n",
    "    \n",
    "    n = A.shape[1] \n",
    "    R = np.zeros((n,n))\n",
    "    Q = np.zeros_like(A)\n",
    "    \n",
    "    R[0,0] = np.linalg.norm(A[:,0]) \n",
    "    Q[:,0] = A[:,0]/R[0,0]\n",
    "    \n",
    "    for i in range(1,n):\n",
    "        Q[:,i]=A[:,i]\n",
    "        for j in range(i):\n",
    "            R[j,i] = np.inner(Q[:,j], A[:,i])\n",
    "            Q[:,i] -= R[j,i]*Q[:,j]\n",
    "        R[i,i] =  np.linalg.norm(Q[:,i])\n",
    "        Q[:,i]/=R[i,i]\n",
    "        \n",
    "    return Q, R\n",
    "    "
   ]
  },
  {
   "cell_type": "code",
   "execution_count": null,
   "id": "b31387fd",
   "metadata": {},
   "outputs": [],
   "source": [
    "A=np.array([[1., 1.],\n",
    "            [1.,0.],\n",
    "            [0., -1.]])\n",
    "Q,R= GramSchmidt(A)"
   ]
  },
  {
   "cell_type": "code",
   "execution_count": null,
   "id": "f57e259e",
   "metadata": {},
   "outputs": [],
   "source": [
    "print('Q=\\n'+str(Q))\n",
    "print('R=\\n'+str(R))"
   ]
  },
  {
   "cell_type": "markdown",
   "id": "7cc80741",
   "metadata": {},
   "source": [
    "Compare with np.linalg.qr:"
   ]
  },
  {
   "cell_type": "code",
   "execution_count": null,
   "id": "63e23387",
   "metadata": {},
   "outputs": [],
   "source": [
    "q,r=np.linalg.qr(A)\n",
    "print('q=\\n'+str(q))\n",
    "print('r=\\n'+str(r))"
   ]
  },
  {
   "cell_type": "code",
   "execution_count": null,
   "id": "3e080a8b",
   "metadata": {},
   "outputs": [],
   "source": [
    "np.linalg.qr?"
   ]
  },
  {
   "cell_type": "code",
   "execution_count": null,
   "id": "de07c8d3",
   "metadata": {},
   "outputs": [],
   "source": []
  }
 ],
 "metadata": {
  "kernelspec": {
   "display_name": "Python 3 (ipykernel)",
   "language": "python",
   "name": "python3"
  },
  "language_info": {
   "codemirror_mode": {
    "name": "ipython",
    "version": 3
   },
   "file_extension": ".py",
   "mimetype": "text/x-python",
   "name": "python",
   "nbconvert_exporter": "python",
   "pygments_lexer": "ipython3",
   "version": "3.9.7"
  }
 },
 "nbformat": 4,
 "nbformat_minor": 5
}
