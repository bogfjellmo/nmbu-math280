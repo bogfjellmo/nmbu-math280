{
 "cells": [
  {
   "cell_type": "code",
   "execution_count": null,
   "metadata": {},
   "outputs": [],
   "source": [
    "import numpy as np\n",
    "import matplotlib.pyplot as plt"
   ]
  },
  {
   "cell_type": "markdown",
   "metadata": {},
   "source": [
    "# Example 1: 2 positive eigenvalues, saddle point"
   ]
  },
  {
   "cell_type": "code",
   "execution_count": null,
   "metadata": {},
   "outputs": [],
   "source": [
    "A=np.array([[0.5, 1], \n",
    "            [-0.2, 1.5]])\n",
    "\n",
    "print(A)"
   ]
  },
  {
   "cell_type": "code",
   "execution_count": null,
   "metadata": {},
   "outputs": [],
   "source": [
    "l, P=np.linalg.eig(A)\n",
    "print(l) # eigenvalues\n",
    "print(P) # matrix containing eigenvectors as columns\n",
    "print(np.linalg.inv(P))"
   ]
  },
  {
   "cell_type": "code",
   "execution_count": null,
   "metadata": {},
   "outputs": [],
   "source": [
    "print(P@(np.diag(l))@(np.linalg.inv(P))) # check that A=P*D*P^(-1)"
   ]
  },
  {
   "cell_type": "code",
   "execution_count": null,
   "metadata": {},
   "outputs": [],
   "source": [
    "# plotting a trajectory of the dynamical system defined by A\n",
    "x=np.array([10,3])\n",
    "print(x)\n",
    "\n",
    "\n",
    "plt.figure()\n",
    "plt.plot(x[0], x[1], 'ro')\n",
    "\n",
    "\n",
    "for k in range(10):\n",
    "    x=A@x\n",
    "    print(x)\n",
    "    plt.plot(x[0], x[1], 'rx')"
   ]
  },
  {
   "cell_type": "code",
   "execution_count": null,
   "metadata": {},
   "outputs": [],
   "source": [
    "# plotting multiple trajectories along with eigenvectors\n",
    "\n",
    "N=12\n",
    "\n",
    "u=P[:,0]\n",
    "v=P[:,1]\n",
    "\n",
    "theta=np.linspace(0, 2*np.pi, N+1)[:-1]\n",
    "colors = plt.cm.tab10(np.linspace(0, 1, N))\n",
    "plt.figure()\n",
    "\n",
    "for l, th in enumerate(theta):\n",
    "    x0=10*np.array([np.cos(th), np.sin(th)])\n",
    "    plt.plot(x0[0], x0[1], 'o', color=colors[l])\n",
    "    for k in range(12):\n",
    "        x1=A@x0\n",
    "        plt.plot([x0[0], x1[0]], [x0[1], x1[1]], '-x', color=colors[l])\n",
    "        x0=x1\n",
    "\n",
    "\n",
    "plt.plot([-40*u[0], 40*u[0]], [-40*u[1], 40*u[1]], 'k', linewidth=2) \n",
    "plt.plot([-40*v[0], 40*v[0]], [-40*v[1], 40*v[1]],'gray', linewidth=2)\n",
    "plt.xlim(-30, 30)\n",
    "plt.ylim(-30, 30)\n",
    "\n",
    "\n",
    "plt.gca().set_aspect('equal', adjustable='box')"
   ]
  },
  {
   "cell_type": "markdown",
   "metadata": {},
   "source": [
    "# Example 2, 2 complex eigenvalues, spiral outwards"
   ]
  },
  {
   "cell_type": "code",
   "execution_count": null,
   "metadata": {},
   "outputs": [],
   "source": [
    "B=np.array([[0.5, 1], \n",
    "            [-0.3, 1.5]])\n",
    "\n",
    "print(B)"
   ]
  },
  {
   "cell_type": "code",
   "execution_count": null,
   "metadata": {},
   "outputs": [],
   "source": [
    "l2, P2=np.linalg.eig(B)\n",
    "print(l2) # eigenvalues\n",
    "print(P2) # matrix containing eigenvectors as columns"
   ]
  },
  {
   "cell_type": "code",
   "execution_count": null,
   "metadata": {},
   "outputs": [],
   "source": [
    "print(P2@(np.diag(l2))@(np.linalg.inv(P2))) # check that B=P*D*P^(-1)\n"
   ]
  },
  {
   "cell_type": "code",
   "execution_count": null,
   "metadata": {},
   "outputs": [],
   "source": [
    "# plot a trajectory of the dynamical system defined by B\n",
    "\n",
    "x=np.array([10,3])\n",
    "print(x)\n",
    "\n",
    "\n",
    "plt.figure()\n",
    "plt.plot(x[0], x[1], 'ro')\n",
    "\n",
    "\n",
    "for k in range(30):\n",
    "    x=B@x\n",
    "    print(x)\n",
    "    plt.plot(x[0], x[1], 'rx')"
   ]
  },
  {
   "cell_type": "code",
   "execution_count": null,
   "metadata": {},
   "outputs": [],
   "source": [
    "# plot multiple trajectories\n",
    "\n",
    "N=4\n",
    "\n",
    "\n",
    "\n",
    "theta=np.linspace(0, 2*np.pi, N+1)[:-1]\n",
    "colors = plt.cm.tab10(np.linspace(0, 1, N))\n",
    "plt.figure()\n",
    "\n",
    "for l, th in enumerate(theta):\n",
    "    x0=10*np.array([np.cos(th), np.sin(th)])\n",
    "    plt.plot(x0[0], x0[1], 'o', color=colors[l])\n",
    "    for k in range(40):\n",
    "        x1=B@x0\n",
    "        plt.plot([x0[0], x1[0]], [x0[1], x1[1]], '-x', color=colors[l])\n",
    "        x0=x1\n",
    "\n",
    "\n",
    "plt.xlim(-40, 40)\n",
    "plt.ylim(-40, 40)\n",
    "\n",
    "# set the aspect ratio of the plot to be equal\n",
    "plt.gca().set_aspect('equal', adjustable='box')"
   ]
  },
  {
   "cell_type": "code",
   "execution_count": null,
   "metadata": {},
   "outputs": [],
   "source": []
  }
 ],
 "metadata": {
  "kernelspec": {
   "display_name": "math280",
   "language": "python",
   "name": "python3"
  },
  "language_info": {
   "codemirror_mode": {
    "name": "ipython",
    "version": 3
   },
   "file_extension": ".py",
   "mimetype": "text/x-python",
   "name": "python",
   "nbconvert_exporter": "python",
   "pygments_lexer": "ipython3",
   "version": "3.12.9"
  }
 },
 "nbformat": 4,
 "nbformat_minor": 2
}
