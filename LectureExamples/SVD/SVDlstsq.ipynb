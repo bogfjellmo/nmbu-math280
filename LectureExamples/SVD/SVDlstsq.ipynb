{
 "cells": [
  {
   "cell_type": "code",
   "execution_count": 1,
   "id": "91c0c176",
   "metadata": {},
   "outputs": [],
   "source": [
    "import numpy as np\n",
    "import matplotlib.pyplot as plt"
   ]
  },
  {
   "cell_type": "markdown",
   "id": "3c9dbe9d",
   "metadata": {},
   "source": [
    "## Example 1\n",
    "Small ill-conditioned matrix"
   ]
  },
  {
   "cell_type": "code",
   "execution_count": 2,
   "id": "1c6abff0",
   "metadata": {},
   "outputs": [],
   "source": [
    "A = np.array([[1., 1.], [1e-8,0], [0, 1e-8]])\n",
    "b=np.array([1,0,0])"
   ]
  },
  {
   "cell_type": "code",
   "execution_count": 3,
   "id": "5bc95c73",
   "metadata": {},
   "outputs": [
    {
     "name": "stdout",
     "output_type": "stream",
     "text": [
      "A=\n",
      "[[1.e+00 1.e+00]\n",
      " [1.e-08 0.e+00]\n",
      " [0.e+00 1.e-08]]\n",
      "b=\n",
      "[1 0 0]\n"
     ]
    }
   ],
   "source": [
    "print(\"A=\\n\"+str(A))\n",
    "print(\"b=\\n\"+str(b))"
   ]
  },
  {
   "cell_type": "code",
   "execution_count": 4,
   "id": "50988f67",
   "metadata": {},
   "outputs": [
    {
     "ename": "LinAlgError",
     "evalue": "Singular matrix",
     "output_type": "error",
     "traceback": [
      "\u001b[1;31m---------------------------------------------------------------------------\u001b[0m",
      "\u001b[1;31mLinAlgError\u001b[0m                               Traceback (most recent call last)",
      "\u001b[1;32mC:\\NMBU\\TEMP\\ipykernel_16972\\1881504541.py\u001b[0m in \u001b[0;36m<module>\u001b[1;34m\u001b[0m\n\u001b[1;32m----> 1\u001b[1;33m \u001b[0mx\u001b[0m\u001b[1;33m=\u001b[0m\u001b[0mnp\u001b[0m\u001b[1;33m.\u001b[0m\u001b[0mlinalg\u001b[0m\u001b[1;33m.\u001b[0m\u001b[0msolve\u001b[0m\u001b[1;33m(\u001b[0m\u001b[0mA\u001b[0m\u001b[1;33m.\u001b[0m\u001b[0mT\u001b[0m\u001b[1;33m@\u001b[0m\u001b[0mA\u001b[0m\u001b[1;33m,\u001b[0m \u001b[0mA\u001b[0m\u001b[1;33m.\u001b[0m\u001b[0mT\u001b[0m\u001b[1;33m@\u001b[0m\u001b[0mb\u001b[0m\u001b[1;33m)\u001b[0m\u001b[1;33m\u001b[0m\u001b[1;33m\u001b[0m\u001b[0m\n\u001b[0m",
      "\u001b[1;32m~\\.conda\\envs\\math280\\lib\\site-packages\\numpy\\core\\overrides.py\u001b[0m in \u001b[0;36msolve\u001b[1;34m(*args, **kwargs)\u001b[0m\n",
      "\u001b[1;32m~\\.conda\\envs\\math280\\lib\\site-packages\\numpy\\linalg\\linalg.py\u001b[0m in \u001b[0;36msolve\u001b[1;34m(a, b)\u001b[0m\n\u001b[0;32m    398\u001b[0m     \u001b[0msignature\u001b[0m \u001b[1;33m=\u001b[0m \u001b[1;34m'DD->D'\u001b[0m \u001b[1;32mif\u001b[0m \u001b[0misComplexType\u001b[0m\u001b[1;33m(\u001b[0m\u001b[0mt\u001b[0m\u001b[1;33m)\u001b[0m \u001b[1;32melse\u001b[0m \u001b[1;34m'dd->d'\u001b[0m\u001b[1;33m\u001b[0m\u001b[1;33m\u001b[0m\u001b[0m\n\u001b[0;32m    399\u001b[0m     \u001b[0mextobj\u001b[0m \u001b[1;33m=\u001b[0m \u001b[0mget_linalg_error_extobj\u001b[0m\u001b[1;33m(\u001b[0m\u001b[0m_raise_linalgerror_singular\u001b[0m\u001b[1;33m)\u001b[0m\u001b[1;33m\u001b[0m\u001b[1;33m\u001b[0m\u001b[0m\n\u001b[1;32m--> 400\u001b[1;33m     \u001b[0mr\u001b[0m \u001b[1;33m=\u001b[0m \u001b[0mgufunc\u001b[0m\u001b[1;33m(\u001b[0m\u001b[0ma\u001b[0m\u001b[1;33m,\u001b[0m \u001b[0mb\u001b[0m\u001b[1;33m,\u001b[0m \u001b[0msignature\u001b[0m\u001b[1;33m=\u001b[0m\u001b[0msignature\u001b[0m\u001b[1;33m,\u001b[0m \u001b[0mextobj\u001b[0m\u001b[1;33m=\u001b[0m\u001b[0mextobj\u001b[0m\u001b[1;33m)\u001b[0m\u001b[1;33m\u001b[0m\u001b[1;33m\u001b[0m\u001b[0m\n\u001b[0m\u001b[0;32m    401\u001b[0m \u001b[1;33m\u001b[0m\u001b[0m\n\u001b[0;32m    402\u001b[0m     \u001b[1;32mreturn\u001b[0m \u001b[0mwrap\u001b[0m\u001b[1;33m(\u001b[0m\u001b[0mr\u001b[0m\u001b[1;33m.\u001b[0m\u001b[0mastype\u001b[0m\u001b[1;33m(\u001b[0m\u001b[0mresult_t\u001b[0m\u001b[1;33m,\u001b[0m \u001b[0mcopy\u001b[0m\u001b[1;33m=\u001b[0m\u001b[1;32mFalse\u001b[0m\u001b[1;33m)\u001b[0m\u001b[1;33m)\u001b[0m\u001b[1;33m\u001b[0m\u001b[1;33m\u001b[0m\u001b[0m\n",
      "\u001b[1;32m~\\.conda\\envs\\math280\\lib\\site-packages\\numpy\\linalg\\linalg.py\u001b[0m in \u001b[0;36m_raise_linalgerror_singular\u001b[1;34m(err, flag)\u001b[0m\n\u001b[0;32m     87\u001b[0m \u001b[1;33m\u001b[0m\u001b[0m\n\u001b[0;32m     88\u001b[0m \u001b[1;32mdef\u001b[0m \u001b[0m_raise_linalgerror_singular\u001b[0m\u001b[1;33m(\u001b[0m\u001b[0merr\u001b[0m\u001b[1;33m,\u001b[0m \u001b[0mflag\u001b[0m\u001b[1;33m)\u001b[0m\u001b[1;33m:\u001b[0m\u001b[1;33m\u001b[0m\u001b[1;33m\u001b[0m\u001b[0m\n\u001b[1;32m---> 89\u001b[1;33m     \u001b[1;32mraise\u001b[0m \u001b[0mLinAlgError\u001b[0m\u001b[1;33m(\u001b[0m\u001b[1;34m\"Singular matrix\"\u001b[0m\u001b[1;33m)\u001b[0m\u001b[1;33m\u001b[0m\u001b[1;33m\u001b[0m\u001b[0m\n\u001b[0m\u001b[0;32m     90\u001b[0m \u001b[1;33m\u001b[0m\u001b[0m\n\u001b[0;32m     91\u001b[0m \u001b[1;32mdef\u001b[0m \u001b[0m_raise_linalgerror_nonposdef\u001b[0m\u001b[1;33m(\u001b[0m\u001b[0merr\u001b[0m\u001b[1;33m,\u001b[0m \u001b[0mflag\u001b[0m\u001b[1;33m)\u001b[0m\u001b[1;33m:\u001b[0m\u001b[1;33m\u001b[0m\u001b[1;33m\u001b[0m\u001b[0m\n",
      "\u001b[1;31mLinAlgError\u001b[0m: Singular matrix"
     ]
    }
   ],
   "source": [
    "x=np.linalg.solve(A.T@A, A.T@b)"
   ]
  },
  {
   "cell_type": "code",
   "execution_count": 5,
   "id": "bae99df6",
   "metadata": {},
   "outputs": [
    {
     "name": "stdout",
     "output_type": "stream",
     "text": [
      "[[1. 1.]\n",
      " [1. 1.]]\n"
     ]
    }
   ],
   "source": [
    "print(A.T@A)"
   ]
  },
  {
   "cell_type": "code",
   "execution_count": 6,
   "id": "0462147d",
   "metadata": {},
   "outputs": [
    {
     "name": "stdout",
     "output_type": "stream",
     "text": [
      "[0.5 0.5]\n"
     ]
    }
   ],
   "source": [
    "x=np.linalg.lstsq(A,b, rcond=None)[0]\n",
    "print(x)"
   ]
  },
  {
   "cell_type": "markdown",
   "id": "2482b3d7",
   "metadata": {},
   "source": [
    "## Example 2:\n",
    "A more \"naturally occuring\" example.\n",
    "Regression polynomial with $x$-values:\n",
    "$$ \\{20,\\ 20.25,\\ 20.5,\\ 20.75,\\ 21\\} $$"
   ]
  },
  {
   "cell_type": "code",
   "execution_count": null,
   "id": "2fef6474",
   "metadata": {},
   "outputs": [],
   "source": [
    "x = np.linspace(20,21,5)\n",
    "print(\"x=\\n\"+str(x))\n",
    "print(\"\\n\")\n",
    "deg=4\n",
    "A=np.vander(x,deg+1, increasing=True)\n",
    "\n",
    "ATA=A.T@A\n",
    "with np.printoptions(precision=2, suppress=True): # Cleaning up the output a bit\n",
    "    print(\"A=\\n\"+str(A))\n",
    "    print(\"\\n\")\n",
    "    print(\"A^TA=\\n\" + str(A.T@A))"
   ]
  },
  {
   "cell_type": "code",
   "execution_count": null,
   "id": "2fd4668b",
   "metadata": {},
   "outputs": [],
   "source": [
    "print(\"Condition number of ATA: \"+str(np.linalg.cond(ATA)))"
   ]
  },
  {
   "cell_type": "code",
   "execution_count": null,
   "id": "69234303",
   "metadata": {},
   "outputs": [],
   "source": [
    "y=1+x+x**2/2+x**3/6\n",
    "betatrue=np.array([1.,1.,1/2,1/6, 0])"
   ]
  },
  {
   "cell_type": "code",
   "execution_count": null,
   "id": "f24bd396",
   "metadata": {},
   "outputs": [],
   "source": [
    "betane=np.linalg.solve(ATA,A.T@y)\n",
    "print(betane)\n",
    "print(\"Relative error: \" +str(np.linalg.norm(betane-betatrue)/np.linalg.norm(betatrue)))"
   ]
  },
  {
   "cell_type": "code",
   "execution_count": null,
   "id": "38f9390b",
   "metadata": {},
   "outputs": [],
   "source": [
    "U,s,VT=np.linalg.svd(A, full_matrices=False)\n",
    "\n",
    "print(\"Condition number=\"\"{:e}\".format(s[0]/s[-1]))"
   ]
  },
  {
   "cell_type": "code",
   "execution_count": null,
   "id": "ebe7fbda",
   "metadata": {},
   "outputs": [],
   "source": [
    "betasvd=VT.T@((U.T@y)/s)\n",
    "print(betasvd)\n",
    "print(\"Relative error: \" +str(np.linalg.norm(betasvd-betatrue)/np.linalg.norm(betatrue)))"
   ]
  },
  {
   "cell_type": "code",
   "execution_count": null,
   "id": "33ff4c74",
   "metadata": {},
   "outputs": [],
   "source": []
  }
 ],
 "metadata": {
  "kernelspec": {
   "display_name": "Python 3 (ipykernel)",
   "language": "python",
   "name": "python3"
  },
  "language_info": {
   "codemirror_mode": {
    "name": "ipython",
    "version": 3
   },
   "file_extension": ".py",
   "mimetype": "text/x-python",
   "name": "python",
   "nbconvert_exporter": "python",
   "pygments_lexer": "ipython3",
   "version": "3.9.16"
  }
 },
 "nbformat": 4,
 "nbformat_minor": 5
}
