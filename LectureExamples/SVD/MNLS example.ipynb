{
 "cells": [
  {
   "cell_type": "code",
   "execution_count": 1,
   "id": "7e0dca68",
   "metadata": {},
   "outputs": [],
   "source": [
    "import numpy as np"
   ]
  },
  {
   "cell_type": "code",
   "execution_count": 2,
   "id": "05581b61",
   "metadata": {},
   "outputs": [],
   "source": [
    "A=np.array([[.6, .8],[1.2,1.6], [1.2,1.6]])"
   ]
  },
  {
   "cell_type": "code",
   "execution_count": 3,
   "id": "5b79da5a",
   "metadata": {},
   "outputs": [],
   "source": [
    "U,s,Vt=np.linalg.svd(A)"
   ]
  },
  {
   "cell_type": "code",
   "execution_count": 4,
   "id": "f39e4724",
   "metadata": {},
   "outputs": [
    {
     "name": "stdout",
     "output_type": "stream",
     "text": [
      "U=\n",
      "[[-3.333e-01  9.428e-01 -7.401e-17]\n",
      " [-6.667e-01 -2.357e-01 -7.071e-01]\n",
      " [-6.667e-01 -2.357e-01  7.071e-01]]\n",
      "\n",
      "s=\n",
      "[3.000e+00 1.884e-16]\n",
      "\n",
      "V=\n",
      "[[-0.6 -0.8]\n",
      " [-0.8  0.6]]\n"
     ]
    }
   ],
   "source": [
    "with np.printoptions(precision=3): # Cleaning up the output a bit\n",
    "    print(\"U=\\n\"+str(U)+\"\\n\")\n",
    "    print(\"s=\\n\"+str(s)+\"\\n\")\n",
    "    print(\"V=\\n\"+str(Vt.T))"
   ]
  },
  {
   "cell_type": "code",
   "execution_count": 5,
   "id": "e4ff1411",
   "metadata": {},
   "outputs": [
    {
     "data": {
      "text/plain": [
       "array([[3.24, 4.32],\n",
       "       [4.32, 5.76]])"
      ]
     },
     "execution_count": 5,
     "metadata": {},
     "output_type": "execute_result"
    }
   ],
   "source": [
    "A.T@A"
   ]
  },
  {
   "cell_type": "code",
   "execution_count": null,
   "id": "5eb77b34",
   "metadata": {},
   "outputs": [],
   "source": []
  }
 ],
 "metadata": {
  "kernelspec": {
   "display_name": "Python 3 (ipykernel)",
   "language": "python",
   "name": "python3"
  },
  "language_info": {
   "codemirror_mode": {
    "name": "ipython",
    "version": 3
   },
   "file_extension": ".py",
   "mimetype": "text/x-python",
   "name": "python",
   "nbconvert_exporter": "python",
   "pygments_lexer": "ipython3",
   "version": "3.9.16"
  }
 },
 "nbformat": 4,
 "nbformat_minor": 5
}
