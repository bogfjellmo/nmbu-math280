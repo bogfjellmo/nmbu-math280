{
 "cells": [
  {
   "cell_type": "code",
   "execution_count": 1,
   "id": "94abc959",
   "metadata": {},
   "outputs": [],
   "source": [
    "import numpy as np"
   ]
  },
  {
   "cell_type": "code",
   "execution_count": 2,
   "id": "ec3c9390",
   "metadata": {},
   "outputs": [
    {
     "name": "stdout",
     "output_type": "stream",
     "text": [
      "[[1. 1. 0. 0.]\n",
      " [0. 0. 1. 1.]\n",
      " [1. 1. 1. 1.]]\n"
     ]
    }
   ],
   "source": [
    "A=np.array([[1.,1,0,0], [0,0,1,1], [1,1,1,1]])\n",
    "print(A)"
   ]
  },
  {
   "cell_type": "code",
   "execution_count": 3,
   "id": "0fdbf2d3",
   "metadata": {},
   "outputs": [],
   "source": [
    "U, s, Vt = np.linalg.svd(A)"
   ]
  },
  {
   "cell_type": "code",
   "execution_count": 6,
   "id": "65acde8a",
   "metadata": {},
   "outputs": [
    {
     "name": "stdout",
     "output_type": "stream",
     "text": [
      "[[ 4.08248290e-01  7.07106781e-01 -5.77350269e-01]\n",
      " [ 4.08248290e-01 -7.07106781e-01 -5.77350269e-01]\n",
      " [ 8.16496581e-01 -1.11022302e-16  5.77350269e-01]]\n",
      "[2.44948974e+00 1.41421356e+00 1.44766737e-16]\n",
      "[[ 5.00000000e-01  5.00000000e-01  5.00000000e-01  5.00000000e-01]\n",
      " [ 5.00000000e-01  5.00000000e-01 -5.00000000e-01 -5.00000000e-01]\n",
      " [-7.07106781e-01  7.07106781e-01 -1.57009246e-16 -1.57009246e-16]\n",
      " [ 7.13299383e-17 -7.13299383e-17 -7.07106781e-01  7.07106781e-01]]\n"
     ]
    }
   ],
   "source": [
    "print(U)\n",
    "print(s)\n",
    "print(Vt)"
   ]
  },
  {
   "cell_type": "markdown",
   "id": "70675ac4",
   "metadata": {},
   "source": [
    "Let us try computing using the eigenvalue algorithm instead. "
   ]
  },
  {
   "cell_type": "code",
   "execution_count": 11,
   "id": "659a3f7d",
   "metadata": {},
   "outputs": [
    {
     "name": "stdout",
     "output_type": "stream",
     "text": [
      "[ 6.00000000e+00  2.00000000e+00 -2.84637279e-18  4.69370843e-16]\n"
     ]
    }
   ],
   "source": [
    "l, P = np.linalg.eig(A.T@A)\n",
    "print(l)"
   ]
  },
  {
   "cell_type": "markdown",
   "id": "f85202b2",
   "metadata": {},
   "source": [
    "As we see, the algorithm returns negative eigenvalues. \n",
    "\n",
    "We know that the matrix $A^TA$ cannot have negative eigenvalues, but the basic eigenvaluealgorithm doesn't.\n",
    "\n",
    "Additionally: The positive fourth eigenvalue returned above is small (it's around machine precision,) but its square is much larger."
   ]
  },
  {
   "cell_type": "code",
   "execution_count": 13,
   "id": "f61b614f",
   "metadata": {},
   "outputs": [
    {
     "name": "stdout",
     "output_type": "stream",
     "text": [
      "2.1664968110179272e-08\n"
     ]
    }
   ],
   "source": [
    "print(l[3]**.5)"
   ]
  },
  {
   "cell_type": "code",
   "execution_count": null,
   "id": "b1571b10",
   "metadata": {},
   "outputs": [],
   "source": []
  },
  {
   "cell_type": "markdown",
   "id": "c1b61e47",
   "metadata": {},
   "source": [
    "## Another example with stability problems\n",
    "\n",
    "We create an example where we know the singular values to be $2, 1, 10^{-9}$. As we will see, `np.linalg.svd` computes the small singular value with a small error, but using `np.linalg.eig` on $A^TA$, we essentially"
   ]
  },
  {
   "cell_type": "code",
   "execution_count": 7,
   "id": "9a2c9e47",
   "metadata": {},
   "outputs": [
    {
     "name": "stdout",
     "output_type": "stream",
     "text": [
      "[[ 0.01416284 -0.42451438  1.29149154]\n",
      " [ 1.12527105  0.49723915  1.23980015]\n",
      " [-0.11102658 -0.1723773   0.24291891]]\n"
     ]
    }
   ],
   "source": [
    "U=np.linalg.qr(np.random.rand(3,3))[0] # Random orthogonal matrix\n",
    "V=np.linalg.qr(np.random.rand(3,3))[0]\n",
    "S=np.diag([2,1,1e-9]) \n",
    "A=U@S@V.T\n",
    "print(A)"
   ]
  },
  {
   "cell_type": "code",
   "execution_count": 8,
   "id": "9f9dbbb3",
   "metadata": {},
   "outputs": [
    {
     "name": "stdout",
     "output_type": "stream",
     "text": [
      "[2.00000000e+00 1.00000000e+00 9.99999949e-10]\n"
     ]
    }
   ],
   "source": [
    "U,s,Vt=np.linalg.svd(A)\n",
    "print(s)"
   ]
  },
  {
   "cell_type": "code",
   "execution_count": 9,
   "id": "ce157f88",
   "metadata": {},
   "outputs": [
    {
     "name": "stdout",
     "output_type": "stream",
     "text": [
      "[4.00000000e+00 1.00000000e+00 2.26946076e-16]\n"
     ]
    }
   ],
   "source": [
    "l,P=np.linalg.eig(A.T@A)\n",
    "print(l)"
   ]
  },
  {
   "cell_type": "code",
   "execution_count": 10,
   "id": "c0a99d22",
   "metadata": {},
   "outputs": [
    {
     "name": "stdout",
     "output_type": "stream",
     "text": [
      "[2.00000000e+00 1.00000000e+00 1.50647295e-08]\n"
     ]
    }
   ],
   "source": [
    "print(np.sqrt(l))"
   ]
  },
  {
   "cell_type": "code",
   "execution_count": null,
   "id": "7020e01d",
   "metadata": {},
   "outputs": [],
   "source": []
  }
 ],
 "metadata": {
  "kernelspec": {
   "display_name": "Python 3 (ipykernel)",
   "language": "python",
   "name": "python3"
  },
  "language_info": {
   "codemirror_mode": {
    "name": "ipython",
    "version": 3
   },
   "file_extension": ".py",
   "mimetype": "text/x-python",
   "name": "python",
   "nbconvert_exporter": "python",
   "pygments_lexer": "ipython3",
   "version": "3.9.16"
  }
 },
 "nbformat": 4,
 "nbformat_minor": 5
}
