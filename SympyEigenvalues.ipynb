{
 "cells": [
  {
   "cell_type": "code",
   "execution_count": 25,
   "metadata": {},
   "outputs": [],
   "source": [
    "from sympy import *\n",
    "\n",
    "from numpy.random import randint\n",
    "\n",
    "def random_matrix(n):\n",
    "    return Matrix(n, n, lambda i, j: S(randint(-5, 5)/S(randint(1,5))))"
   ]
  },
  {
   "cell_type": "code",
   "execution_count": 40,
   "metadata": {},
   "outputs": [
    {
     "data": {
      "text/latex": [
       "$\\displaystyle \\left[\\begin{matrix}- \\frac{1}{2} & 1 & \\frac{4}{3} & -2 & 1\\\\-1 & 0 & \\frac{1}{3} & -1 & - \\frac{3}{2}\\\\\\frac{3}{4} & 2 & - \\frac{1}{2} & -1 & \\frac{3}{4}\\\\-4 & 1 & 2 & - \\frac{2}{3} & \\frac{1}{3}\\\\\\frac{3}{4} & 0 & -2 & -1 & - \\frac{1}{2}\\end{matrix}\\right]$"
      ],
      "text/plain": [
       "Matrix([\n",
       "[-1/2, 1,  4/3,   -2,    1],\n",
       "[  -1, 0,  1/3,   -1, -3/2],\n",
       "[ 3/4, 2, -1/2,   -1,  3/4],\n",
       "[  -4, 1,    2, -2/3,  1/3],\n",
       "[ 3/4, 0,   -2,   -1, -1/2]])"
      ]
     },
     "metadata": {},
     "output_type": "display_data"
    }
   ],
   "source": [
    "A=random_matrix(5)\n",
    "display(A)\n"
   ]
  },
  {
   "cell_type": "code",
   "execution_count": 41,
   "metadata": {},
   "outputs": [
    {
     "data": {
      "text/latex": [
       "$\\displaystyle \\operatorname{PurePoly}{\\left( \\lambda^{5} + \\frac{13}{6} \\lambda^{4} -  \\frac{17}{6} \\lambda^{3} -  \\frac{947}{72} \\lambda^{2} -  \\frac{1073}{36} \\lambda + \\frac{1715}{36}, \\lambda, domain=\\mathbb{Q} \\right)}$"
      ],
      "text/plain": [
       "PurePoly(lambda**5 + 13/6*lambda**4 - 17/6*lambda**3 - 947/72*lambda**2 - 1073/36*lambda + 1715/36, lambda, domain='QQ')"
      ]
     },
     "execution_count": 41,
     "metadata": {},
     "output_type": "execute_result"
    }
   ],
   "source": [
    "A.charpoly()"
   ]
  },
  {
   "cell_type": "code",
   "execution_count": 42,
   "metadata": {},
   "outputs": [
    {
     "data": {
      "text/latex": [
       "$\\displaystyle \\operatorname{CRootOf} {\\left(72 \\lambda^{5} + 156 \\lambda^{4} - 204 \\lambda^{3} - 947 \\lambda^{2} - 2146 \\lambda + 3430, 0\\right)}$"
      ],
      "text/plain": [
       "CRootOf(72*lambda**5 + 156*lambda**4 - 204*lambda**3 - 947*lambda**2 - 2146*lambda + 3430, 0)"
      ]
     },
     "metadata": {},
     "output_type": "display_data"
    },
    {
     "data": {
      "text/latex": [
       "$\\displaystyle \\operatorname{CRootOf} {\\left(72 \\lambda^{5} + 156 \\lambda^{4} - 204 \\lambda^{3} - 947 \\lambda^{2} - 2146 \\lambda + 3430, 1\\right)}$"
      ],
      "text/plain": [
       "CRootOf(72*lambda**5 + 156*lambda**4 - 204*lambda**3 - 947*lambda**2 - 2146*lambda + 3430, 1)"
      ]
     },
     "metadata": {},
     "output_type": "display_data"
    },
    {
     "data": {
      "text/latex": [
       "$\\displaystyle \\operatorname{CRootOf} {\\left(72 \\lambda^{5} + 156 \\lambda^{4} - 204 \\lambda^{3} - 947 \\lambda^{2} - 2146 \\lambda + 3430, 2\\right)}$"
      ],
      "text/plain": [
       "CRootOf(72*lambda**5 + 156*lambda**4 - 204*lambda**3 - 947*lambda**2 - 2146*lambda + 3430, 2)"
      ]
     },
     "metadata": {},
     "output_type": "display_data"
    },
    {
     "data": {
      "text/latex": [
       "$\\displaystyle \\operatorname{CRootOf} {\\left(72 \\lambda^{5} + 156 \\lambda^{4} - 204 \\lambda^{3} - 947 \\lambda^{2} - 2146 \\lambda + 3430, 3\\right)}$"
      ],
      "text/plain": [
       "CRootOf(72*lambda**5 + 156*lambda**4 - 204*lambda**3 - 947*lambda**2 - 2146*lambda + 3430, 3)"
      ]
     },
     "metadata": {},
     "output_type": "display_data"
    },
    {
     "data": {
      "text/latex": [
       "$\\displaystyle \\operatorname{CRootOf} {\\left(72 \\lambda^{5} + 156 \\lambda^{4} - 204 \\lambda^{3} - 947 \\lambda^{2} - 2146 \\lambda + 3430, 4\\right)}$"
      ],
      "text/plain": [
       "CRootOf(72*lambda**5 + 156*lambda**4 - 204*lambda**3 - 947*lambda**2 - 2146*lambda + 3430, 4)"
      ]
     },
     "metadata": {},
     "output_type": "display_data"
    }
   ],
   "source": [
    "ll=A.eigenvals()\n",
    "for l in ll:\n",
    "    display(l)"
   ]
  },
  {
   "cell_type": "code",
   "execution_count": 43,
   "metadata": {},
   "outputs": [
    {
     "data": {
      "text/latex": [
       "$\\displaystyle -3.16433918811352$"
      ],
      "text/plain": [
       "-3.16433918811352"
      ]
     },
     "metadata": {},
     "output_type": "display_data"
    },
    {
     "data": {
      "text/latex": [
       "$\\displaystyle 1.0989931057252$"
      ],
      "text/plain": [
       "1.09899310572520"
      ]
     },
     "metadata": {},
     "output_type": "display_data"
    },
    {
     "data": {
      "text/latex": [
       "$\\displaystyle 2.29972379456852$"
      ],
      "text/plain": [
       "2.29972379456852"
      ]
     },
     "metadata": {},
     "output_type": "display_data"
    },
    {
     "data": {
      "text/latex": [
       "$\\displaystyle -1.20052218942343 - 2.12496515484985 i$"
      ],
      "text/plain": [
       "-1.20052218942343 - 2.12496515484985*I"
      ]
     },
     "metadata": {},
     "output_type": "display_data"
    },
    {
     "data": {
      "text/latex": [
       "$\\displaystyle -1.20052218942343 + 2.12496515484985 i$"
      ],
      "text/plain": [
       "-1.20052218942343 + 2.12496515484985*I"
      ]
     },
     "metadata": {},
     "output_type": "display_data"
    }
   ],
   "source": [
    "# numerical values:\n",
    "for l in ll:\n",
    "    display(l.evalf())"
   ]
  },
  {
   "cell_type": "code",
   "execution_count": 39,
   "metadata": {},
   "outputs": [
    {
     "data": {
      "text/latex": [
       "$\\displaystyle \\left[\\begin{matrix}2 & -2 & -2 & - \\frac{5}{4} & - \\frac{1}{2}\\\\-2 & - \\frac{5}{2} & - \\frac{2}{3} & \\frac{1}{4} & - \\frac{7}{4}\\\\-2 & - \\frac{2}{3} & 0 & \\frac{3}{4} & -6\\\\- \\frac{5}{4} & \\frac{1}{4} & \\frac{3}{4} & 0 & 3\\\\- \\frac{1}{2} & - \\frac{7}{4} & -6 & 3 & - \\frac{5}{2}\\end{matrix}\\right]$"
      ],
      "text/plain": [
       "Matrix([\n",
       "[   2,   -2,   -2, -5/4, -1/2],\n",
       "[  -2, -5/2, -2/3,  1/4, -7/4],\n",
       "[  -2, -2/3,    0,  3/4,   -6],\n",
       "[-5/4,  1/4,  3/4,    0,    3],\n",
       "[-1/2, -7/4,   -6,    3, -5/2]])"
      ]
     },
     "metadata": {},
     "output_type": "display_data"
    },
    {
     "data": {
      "text/latex": [
       "$\\displaystyle -9.09368173183058$"
      ],
      "text/plain": [
       "-9.09368173183058"
      ]
     },
     "metadata": {},
     "output_type": "display_data"
    },
    {
     "data": {
      "text/latex": [
       "$\\displaystyle -2.75779017466251$"
      ],
      "text/plain": [
       "-2.75779017466251"
      ]
     },
     "metadata": {},
     "output_type": "display_data"
    },
    {
     "data": {
      "text/latex": [
       "$\\displaystyle -0.287032059829245$"
      ],
      "text/plain": [
       "-0.287032059829245"
      ]
     },
     "metadata": {},
     "output_type": "display_data"
    },
    {
     "data": {
      "text/latex": [
       "$\\displaystyle 3.50861066137037$"
      ],
      "text/plain": [
       "3.50861066137037"
      ]
     },
     "metadata": {},
     "output_type": "display_data"
    },
    {
     "data": {
      "text/latex": [
       "$\\displaystyle 5.62989330495197$"
      ],
      "text/plain": [
       "5.62989330495197"
      ]
     },
     "metadata": {},
     "output_type": "display_data"
    }
   ],
   "source": [
    "def random_symmetric_matrix(n):\n",
    "    A=random_matrix(n)\n",
    "    return A.T+A\n",
    "\n",
    "A=random_symmetric_matrix(5)\n",
    "display(A)\n",
    "ll=A.eigenvals()\n",
    "for l in ll:\n",
    "    display(l.evalf())"
   ]
  },
  {
   "cell_type": "code",
   "execution_count": null,
   "metadata": {},
   "outputs": [],
   "source": [
    "plo"
   ]
  }
 ],
 "metadata": {
  "kernelspec": {
   "display_name": "symbolic",
   "language": "python",
   "name": "python3"
  },
  "language_info": {
   "codemirror_mode": {
    "name": "ipython",
    "version": 3
   },
   "file_extension": ".py",
   "mimetype": "text/x-python",
   "name": "python",
   "nbconvert_exporter": "python",
   "pygments_lexer": "ipython3",
   "version": "3.10.13"
  }
 },
 "nbformat": 4,
 "nbformat_minor": 2
}
