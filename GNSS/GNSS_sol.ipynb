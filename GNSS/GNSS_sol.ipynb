{
 "cells": [
  {
   "cell_type": "markdown",
   "id": "763dff5a",
   "metadata": {},
   "source": [
    "# Case 2: Satellite navigation\n",
    "\n",
    "\n",
    "Global navigation satellite systems (GNSS) determine a user's position using a receiver (such as a cell phone) and satellites orbiting the Earth. The most widely used GNSS is the Global Positioning System (GPS).\n",
    "\n",
    "In GNSS, the position of the device is determined by measuring the time difference between when a signal is sent from the satellite and when it is received by the receiver.\n",
    "\n",
    "Multiplying the time difference with the speed of light, $c=299 792 458 $m/s, one gets the distance between each satellite and the receiver.\n",
    "\n",
    "## Matematical formulation\n",
    "\n",
    "All coordinates are given as vectors in $\\mathbf{R}^3$. Specifically, we use a coordinate system with origin at the center of the Earth, $z$-axis pointing towards the North pole, $x$-axis pointing towards $0^\\circ N, 0^\\circ E$, and $y$-axis pointing towards $0^\\circ N, 90^\\circ E$.\n",
    "\n",
    "![Earth centered coordinate system](Earth_Centered_Coordinate_System.png)\n",
    "\n",
    "Known parameters:\n",
    "\n",
    "* Coordinates of the satellites: at the time of measurement\n",
    "$\\vec{v}^1=\\begin{bmatrix} v^1_x\\\\ v^1_y \\\\ v^1_z\\end{bmatrix}, \\vec{v}^2, \\dotsc, \\vec{v}^k$\n",
    "* Measured distances:\n",
    "$ R^1, R^2, \\dotsc R^k$ - Measured time differences multiplied by speed of light\n",
    "\n",
    "Unknowns:\n",
    "* Position of the receiver:\n",
    "$\\vec{x}=[x,y,z]^T$.\n",
    "* Clock error of the receiver $ c \\Delta t$.\n",
    "\n",
    "The satellites carry very precise atomic clocks, the clock on the receiver is not as accurate. Therefore we expect that the clock of the receiver may be wrong, and correct for it with the unknown $\\Delta t$. We multiply the clock error with $c$, so that all unknown quantities are measured in meters.\n",
    "\n",
    "The equations connecting the unknowns with the known parameters are:\n",
    "$$\n",
    "\\begin{aligned}\n",
    "R^j & = \\|\\vec{x}-\\vec{v}^j\\| + c\\Delta t & j=1,2,\\dotsc, k\\\\\n",
    "    &= \\sqrt{ (x-v^j_x)^2+(y-v^j_y)^2+(z-v^j_z)^2} +c\\Delta t &  j=1,2,\\dotsc, k\n",
    "\\end{aligned}\n",
    "$$\n",
    "\n",
    "The equations are non-linear in $(x,y,z)$. We linearize around a fixed position (preferably nearby) $\\vec{x}^0$, and set \n",
    "$$\n",
    "\\begin{aligned}\n",
    "\\begin{bmatrix}\n",
    "x\\\\y\\\\z\n",
    "\\end{bmatrix}\n",
    "& =\n",
    "\\begin{bmatrix}\n",
    "x^0\\\\y^0\\\\z^0\n",
    "\\end{bmatrix}\n",
    "+\n",
    "\\begin{bmatrix}\n",
    "\\Delta x\\\\\\Delta y\\\\\\Delta y\n",
    "\\end{bmatrix}\\\\\n",
    "\\vec{x} & = \\vec{x}^0+\\Delta \\vec{x}.\n",
    "\\end{aligned}\n",
    "$$\n",
    "\n",
    "The linear approximation is\n",
    "$$\n",
    "R^j \\approx \\rho^j_0 + \\frac{x^0-v^j_x}{\\rho^j_0} \\Delta x+ \\frac{y^0-v^j_y}{\\rho^j_0} \\Delta y + \\frac{z^0-v^j_z}{\\rho^j_0} \\Delta z + c\\Delta t,\n",
    "$$\n",
    "where\n",
    "$\\rho^j_0 = \\sqrt{ (x^0-v^j_x)^2+(y^0-v^j_y)^2+(z^0-v^j_z)^2}$ is the distance between satellite $j$ and the fixed position $\\vec{x}^0$.\n",
    "\n",
    "\n",
    "\n",
    "Ignoring the approximation, we get, for each satellite, a linear equation in the four unknowns $\\Delta x, \\Delta y, \\Delta z, c\\Delta t$\n",
    "\n",
    "$$\n",
    "\\begin{bmatrix} \\frac{x^0-v^j_x}{\\rho^j_0} & \\frac{y^0-v^j_y}{\\rho^j_0} & \\frac{z^0-v^j_z}{\\rho^j_0} & 1 \\end{bmatrix}\n",
    "\\begin{bmatrix}\n",
    "\\Delta x \\\\\n",
    "\\Delta y \\\\\n",
    "\\Delta z \\\\ \n",
    "c\\Delta t\\end{bmatrix}\n",
    "=  R^j-\\rho^j_0.\n",
    "$$\n",
    "\n",
    "For simpler notation, we define\n",
    "$$\n",
    "X^j=\\frac{x^0-v^j_x}{\\rho^j_0}\\quad Y^j = \\frac{y^0-v^j_y}{\\rho^j_0} \\quad Z^j= \\frac{z^0-v^j_z}{\\rho^j_0}\n",
    "$$\n",
    "Usually (and preferably), we have measurements for more than four satellites. For example, if there are six satellites visible, the system of equations is\n",
    "\n",
    "$$\n",
    "\\underbrace{\n",
    "\\begin{bmatrix}\n",
    "X^1 & Y^1 & Z^1 & 1\\\\\n",
    "X^2 & Y^2 & Z^2 & 1\\\\\n",
    "X^3 & Y^3 & Z^3 & 1\\\\\n",
    "X^4 & Y^4 & Z^4 & 1\\\\\n",
    "X^5 & Y^5 & Z^5 & 1\\\\\n",
    "X^6 & Y^6 & Z^6 & 1\n",
    "\\end{bmatrix}}_\n",
    "{A}\n",
    "\\underbrace{\n",
    "\\begin{bmatrix} \n",
    "\\Delta x\\\\ \\Delta y \\\\ \\Delta z \\\\ c\\Delta t\n",
    "\\end{bmatrix}}\n",
    "_{\\Delta \\vec{x}}\n",
    "=\n",
    "\\underbrace{\n",
    "\\begin{bmatrix}\n",
    "R^1-\\rho^1_0\\\\\n",
    "R^2-\\rho^2_0\\\\\n",
    "R^3-\\rho^3_0\\\\\n",
    "R^4-\\rho^4_0\\\\\n",
    "R^5-\\rho^5_0\\\\\n",
    "R^6-\\rho^6_0\\\\\n",
    "\\end{bmatrix}}_{\\vec{b}}\n",
    "$$\n",
    "\n",
    "\n",
    "The system is overdetermined (more equations than unknowns), so an exact solution is not possible. Instead, we find a least-squares solution.\n",
    "\n",
    "Thanks to Ola Øvstedal (GMPE240) for the problem and data.\n"
   ]
  },
  {
   "cell_type": "markdown",
   "id": "522687e3",
   "metadata": {},
   "source": [
    "## Example data:"
   ]
  },
  {
   "cell_type": "code",
   "execution_count": 2,
   "id": "7afc3ef3",
   "metadata": {},
   "outputs": [],
   "source": [
    "import numpy as np\n",
    "\n",
    "c=299792458\n",
    "\n",
    "v = np.array([[17320278.617,  -8377650.251, 18417718.933], # satellite positions\n",
    "              [23903923.512,   -575354.301, 12082414.203],\n",
    "              [18145496.573,    573199.862, 19274924.497],\n",
    "              [ 4943294.735, -14506778.876, 21432563.831],\n",
    "              [13257395.396,  20015827.354, 11298737.140],\n",
    "              [10229840.139,  10977541.920, 21818177.084]])\n",
    "\n",
    "R = np.array([21166927.434, # measured distance to each satellite\n",
    "              21787043.623, \n",
    "              20356882.560, \n",
    "              22039726.386,\n",
    "              22639167.771, \n",
    "              20600717.361]) \n",
    "\n",
    "x0 = np.array([3174160., 598860., 5481410.]) # Fixed point"
   ]
  },
  {
   "cell_type": "code",
   "execution_count": 3,
   "id": "cfb8b763",
   "metadata": {},
   "outputs": [
    {
     "data": {
      "text/plain": [
       "array([21166919.87565875, 21787040.43637279, 20356881.37715792,\n",
       "       22039724.86450164, 22639159.70903579, 20600718.90438   ])"
      ]
     },
     "execution_count": 3,
     "metadata": {},
     "output_type": "execute_result"
    }
   ],
   "source": [
    "def distances(x, v): #computes the distances between a point x and the satellite positions stored in v\n",
    "    return np.linalg.norm(x-v, axis=1)\n",
    "    \n",
    "rho0 = distances(x0,v)\n",
    "rho0"
   ]
  },
  {
   "cell_type": "markdown",
   "id": "abae4994",
   "metadata": {},
   "source": [
    "### Task 1: Compute the matrix $A$ from above"
   ]
  },
  {
   "cell_type": "code",
   "execution_count": 4,
   "id": "88f78a32",
   "metadata": {},
   "outputs": [
    {
     "name": "stdout",
     "output_type": "stream",
     "text": [
      "[[-0.66831257  0.42408203 -0.61115689  1.        ]\n",
      " [-0.95147221  0.05389508 -0.30297847  1.        ]\n",
      " [-0.73544352  0.00126051 -0.67758485  1.        ]\n",
      " [-0.08027027  0.68538237 -0.7237456   1.        ]\n",
      " [-0.44538912 -0.85767173 -0.25695862  1.        ]\n",
      " [-0.34249679 -0.50380193 -0.79301927  1.        ]]\n"
     ]
    }
   ],
   "source": [
    "def dmatrix(x0,v):\n",
    "    # fill in your code her\n",
    "    X=(x0-v)/distances(x0,v)[:, None]\n",
    "    return np.hstack((X, np.ones((6,1))))\n",
    "A= dmatrix(x0,v)\n",
    "print(A)"
   ]
  },
  {
   "cell_type": "markdown",
   "id": "6d75945c",
   "metadata": {},
   "source": [
    "### Task 2: solve the least square problem $A\\Delta\\vec{x}=\\vec{b}$ (using any method you have learned)\n"
   ]
  },
  {
   "cell_type": "code",
   "execution_count": 5,
   "id": "a72dd6fa",
   "metadata": {},
   "outputs": [
    {
     "name": "stdout",
     "output_type": "stream",
     "text": [
      "[ 1.7779709   1.53415211 13.96994947 12.16934314]\n"
     ]
    }
   ],
   "source": [
    "Q,RR=np.linalg.qr(A)\n",
    "dx=np.linalg.solve(RR, Q.T@(R-rho0))\n",
    "print(dx)"
   ]
  },
  {
   "cell_type": "code",
   "execution_count": 6,
   "id": "06a386b6",
   "metadata": {},
   "outputs": [
    {
     "name": "stdout",
     "output_type": "stream",
     "text": [
      "[3174161.7779709   598861.53415211 5481423.96994947]\n"
     ]
    }
   ],
   "source": [
    "# Compute estimated position\n",
    "x= x0+dx[0:3]\n",
    "print(x)"
   ]
  },
  {
   "cell_type": "code",
   "execution_count": 7,
   "id": "7df8b1c0",
   "metadata": {},
   "outputs": [
    {
     "name": "stdout",
     "output_type": "stream",
     "text": [
      "4.059255932485559e-08\n"
     ]
    }
   ],
   "source": [
    "# estimated time error:\n",
    "print(dx[3]/c)"
   ]
  },
  {
   "cell_type": "markdown",
   "id": "58158760",
   "metadata": {},
   "source": [
    "Where is it? Converting from cartesian coordinates to standard longitude, latitude and elevation is not trivial, below is one implementation. See https://en.wikipedia.org/wiki/Geographic_coordinate_conversion\n",
    "\n"
   ]
  },
  {
   "cell_type": "code",
   "execution_count": 8,
   "id": "e17f105e",
   "metadata": {},
   "outputs": [],
   "source": [
    "\n",
    "\n",
    "def XYZtolatlonelev(position):\n",
    "    # computes the latitude, longitude and elevation (over the ellipsoid) corresponding to position\n",
    "    \n",
    "    a =  6378137.0 # Earth equatorial radius\n",
    "    b =  6356752.3 # Earth polar radius\n",
    "    esq =  1-(b/a)**2 # squared eccentricity of earth\n",
    "    \n",
    "    x=position[0]\n",
    "    y=position[1]\n",
    "    z=position[2]\n",
    "\n",
    "    p =  np.sqrt(x**2+y**2)\n",
    "    \n",
    "    coeffs =[(1-esq)*z**2, -2*(1-esq)*z**2, p**2+(1-esq)*z**2-esq**2*a**2, -2*p**2, p**2]\n",
    "    kappa=np.roots(coeffs)[0].real\n",
    "    \n",
    "    lon = np.rad2deg(np.arctan2(y,x))\n",
    "    lat= np.rad2deg(np.arctan(z*kappa/p))\n",
    "    elev = np.sqrt(p**2+z**2*kappa**2)*(1/kappa-(1-esq))/esq\n",
    "    \n",
    "    \n",
    "    return lat, lon, elev\n",
    "    "
   ]
  },
  {
   "cell_type": "code",
   "execution_count": null,
   "id": "259f50dc",
   "metadata": {},
   "outputs": [],
   "source": []
  },
  {
   "cell_type": "code",
   "execution_count": 9,
   "id": "21da40b6",
   "metadata": {},
   "outputs": [
    {
     "data": {
      "text/plain": [
       "(59.65753884398726, 10.684268972296454, 141.56579202807862)"
      ]
     },
     "execution_count": 9,
     "metadata": {},
     "output_type": "execute_result"
    }
   ],
   "source": [
    "XYZtolatlonelev(x)"
   ]
  },
  {
   "cell_type": "markdown",
   "id": "2a9bad22",
   "metadata": {},
   "source": [
    "[Link to the coordinates](https://www.norgeskart.no/#!?project=norgeskart&sok=59.65753884398726,%2010.684268972296454)"
   ]
  },
  {
   "cell_type": "code",
   "execution_count": null,
   "id": "7560b927",
   "metadata": {},
   "outputs": [],
   "source": []
  }
 ],
 "metadata": {
  "kernelspec": {
   "display_name": "Python 3 (ipykernel)",
   "language": "python",
   "name": "python3"
  },
  "language_info": {
   "codemirror_mode": {
    "name": "ipython",
    "version": 3
   },
   "file_extension": ".py",
   "mimetype": "text/x-python",
   "name": "python",
   "nbconvert_exporter": "python",
   "pygments_lexer": "ipython3",
   "version": "3.9.7"
  }
 },
 "nbformat": 4,
 "nbformat_minor": 5
}
