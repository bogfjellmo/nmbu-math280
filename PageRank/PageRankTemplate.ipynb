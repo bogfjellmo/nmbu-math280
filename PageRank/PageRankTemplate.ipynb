{
 "cells": [
  {
   "cell_type": "markdown",
   "metadata": {},
   "source": [
    "# Programming exercise: PageRank\n",
    "\n",
    "First, we need to import numpy to get access to all the functions we need:"
   ]
  },
  {
   "cell_type": "code",
   "execution_count": 1,
   "metadata": {},
   "outputs": [],
   "source": [
    "import numpy as np"
   ]
  },
  {
   "cell_type": "markdown",
   "metadata": {},
   "source": [
    "If you haven't done so already, read section 10.1 and 10.2 in *Linear Algebra and Its Application* (available on Canvas).\n",
    "\t\n",
    "**Note**: In this note, indices start at 0. If you are using Matlab, vectors and matrices there are 1-indexed, and you have to adjust accordingly.\n",
    "\t\n",
    "\n",
    "\t\n",
    "## Directed graphs \n",
    "A directed graph is a set of vertices with directed edges between the vertices.\n",
    "\n",
    "![Adjacency graph](Adjacency_graph.png)\n",
    "\n",
    "In the PageRank algorithm, each vertex represents a web page, and each edge a link between webpages.\n",
    "\n",
    "A directed graph can be represented on a computer in several ways. For our purposes, we will focus on the *adjacency matrix*. To form the adjacency matrix of a graph, we first label the ertices of the directed graph with indices  $\\{0,1,\\dotsc, n-1\\}$, where $n$ is the number of vertices.\n",
    "\n",
    "The adjacency matrix is an $n\\times n$-matrix ${A}$, with entries\n",
    "$$a_{ij}= \\begin{cases} 1 & \\text{if there is an edge $i\\to j$,}\\\\\n",
    "\t\t\t\t\t\t0 & \\text{if not.}\n",
    "\t\t\t\t\t\t\t\\end{cases}\n",
    "$$\n",
    "\n",
    "To set up the adjacency matrix, we put a 1 at position $(i,j)$ if there is an edge $i\\to j$, otherwise we put zero.\n",
    "$$\n",
    "{A} =\n",
    "\\begin{bmatrix}\n",
    "\t  0 & 1 & 1 & 1 & 0\\\\\n",
    "\t  0 & 0 & 0 & 0 & 1\\\\\n",
    "\t  0 & 1 & 0 & 0 & 0\\\\\n",
    "\t  0 & 0 & 1 & 0 & 0\\\\\n",
    "\t  1 & 0 & 0 & 1 & 0\n",
    "\t\\end{bmatrix}.\n",
    "$$\n",
    "\n",
    "\n",
    "This adjacency graph is stored in `adjacency_example.txt`.\n",
    "\n",
    "We can load it into Python using `np.loadtxt`. If you are using Matlab, you can use `readmatrix`."
   ]
  },
  {
   "cell_type": "code",
   "execution_count": 2,
   "metadata": {},
   "outputs": [
    {
     "name": "stdout",
     "output_type": "stream",
     "text": [
      "[[0 1 1 1 0]\n",
      " [0 0 0 0 1]\n",
      " [0 1 0 0 0]\n",
      " [0 0 1 0 0]\n",
      " [1 0 0 1 0]]\n"
     ]
    }
   ],
   "source": [
    "A= np.loadtxt('adjacency_example.txt', dtype=int)\n",
    "print(A)"
   ]
  },
  {
   "cell_type": "markdown",
   "metadata": {},
   "source": [
    "## The transition matrix\n",
    "The PageRank Algorithm uses a transition matrix ${P}$ for the random walk across the graph. (See Chapter 10.2 i Lay). This matrix is a stochastic matrix where $p_{ij}$ is the probability of going from state $j$ to state $i$.  \n",
    "\n",
    "\n",
    "$$\n",
    "p_{ij}=\\begin{cases} \\frac{1}{m_j} & \\text{if there is an edge $j\\to i$}\\\\\n",
    "\t\t              0 & \\text{otherwise}\n",
    "\t    \\end{cases},\n",
    "$$\n",
    "where $m_j$ is the number of edges pointing out of node $j$.\n",
    "\n",
    "**Note:** The adjacency matrix has $a_{ij}\\neq 0$ if there is an edge $i\\to j$, while the transition matrix has $p_{ij}\\neq 0$ if there is an edge $j\\to i$.\n",
    "\n",
    "To compute ${P}$ from ${A}$ we need to do three things:\n",
    "\n",
    "1. Compute the number of edges going out from each node.\n",
    "\t$$m_i=\\sum_{j=0}^{n-1}a_{ij}$$\n",
    "2. Divide each row of ${A}$ by the corresponding number of edges, resulting in a matrix ${C}$.\n",
    "\t$$c_{ij}=\\frac{a_{ij}}{m_i}$$\n",
    "3. Transpose the resulting matrix.\n",
    " \t$${P}={C}^\\top$$\n",
    "\n",
    "\n",
    "For our example graph, there are three edges pointiong out of node 0, two edges pointing out of node 3, and one edge pointing out of the other nodes therefore:\n",
    "$$\n",
    "\\mathbf{m}= \\begin{bmatrix}\n",
    "\t3 & 1 & 1 & 1 & 2\n",
    "\\end{bmatrix}^T\n",
    "$$\n",
    "\n",
    "After dividing each row of ${A}$ and transposing, we end up with the transition matrix ${P}$.\n",
    "\n",
    "$$\n",
    "{P}=\\begin{bmatrix}\n",
    "\t0           & 0 & 0 & 0 & \\frac{1}{2}\\\\\n",
    "\t\\frac{1}{3}\t& 0 & 1 & 0 & 0 \\\\\n",
    "    \\frac{1}{3}\t& 0 & 0 & 1 & 0 \\\\\n",
    "\t\\frac{1}{3} & 0 & 0 & 0 & \\frac{1}{2}\\\\\n",
    "\t0\t\t\t & 1 & 0 & 0 & 0\n",
    "\\end{bmatrix}.\n",
    "$$\n",
    "\n"
   ]
  },
  {
   "cell_type": "markdown",
   "metadata": {},
   "source": [
    "### Task 1: Compute the transition matrix\n",
    "Write a function that takes an adjacency matrix $A$ as input, and returns the corresponding transition matrix $P$."
   ]
  },
  {
   "cell_type": "code",
   "execution_count": null,
   "metadata": {},
   "outputs": [],
   "source": [
    "def transition_matrix(A):\n",
    "    '''\n",
    "    transition_matrix(A):\n",
    "        Input: \n",
    "            A: Adjacency matrix \n",
    "        Output:\n",
    "            P: Transition matrix\n",
    "    '''\n",
    "    # Write your implementation here\n",
    "    return P"
   ]
  },
  {
   "cell_type": "markdown",
   "metadata": {},
   "source": [
    "For a sanity check, we see if the transition_matrix function returns a stochastic matrix:"
   ]
  },
  {
   "cell_type": "code",
   "execution_count": null,
   "metadata": {},
   "outputs": [],
   "source": [
    "P=transition_matrix(A)\n",
    "np.allclose(np.sum(P, axis=0), 1) # Will return True if P is a stochastic matrix"
   ]
  },
  {
   "cell_type": "markdown",
   "metadata": {},
   "source": [
    "## The Power Method:\n",
    "The PageRank of each node is calculated from the steady-state vector $\\mathbf{q}$, defined by\n",
    "$$P\\mathbf{q} =\\mathbf{q}, \\quad\\text{and}\\quad \\sum_{i=0}^{n-1} q_i=1.\n",
    "$$\n",
    "As shown in the lectures, \n",
    "$$\\mathbf{q}=\\lim_{k\\to \\infty} \\mathbf{x}_k,$$\n",
    "where $\\mathbf{x}_k$ is a sequence of probability vectors defined by\n",
    "$$\n",
    "\\mathbf{x}_{k+1}=P\\mathbf{x}_k.\n",
    "$$\n",
    "\n",
    "\n",
    "\n",
    "The idea of the power method is to compute the sequence \n",
    "$$\\mathbf{x}_0,\\quad  \\mathbf{x}_1=P\\mathbf{x}_0,\\quad  \\mathbf{x}_2 =P\\mathbf{x}_1,\\quad  \\dotsc$$\n",
    "and use the approximation\n",
    "$$\\mathbf{q}\\approx \\mathbf{x}_N,\n",
    "$$\n",
    "for some large $N$.\n",
    "\n",
    "**Note:** Here we have assumed that the initial vector $\\mathbf{x}_0$ is a probability vector. If it is not, the sequence will converge to some scalar multiple of $\\mathbf{q}$ instead. \n",
    "\n",
    "\n",
    "\n"
   ]
  },
  {
   "cell_type": "markdown",
   "metadata": {},
   "source": [
    "### Task 2: The power method\n",
    "Implement the power method. Your function should take as input the transition matrix, an initial vector of probabilities and the number of iterations of the power method should be used."
   ]
  },
  {
   "cell_type": "code",
   "execution_count": null,
   "metadata": {},
   "outputs": [],
   "source": [
    "def pow_method(P, v0, N):\n",
    "    '''\n",
    "    pow_method(P, v0, N):\n",
    "        Input: \n",
    "            P:   transition matrix\n",
    "            v0:  initial vector of probabilities\n",
    "            N:   number of iterations\n",
    "        Output:\n",
    "            v:   final vector of probabilities v=P^n * v0\n",
    "    '''\n",
    "    # Write your implementation here\n",
    "    return v"
   ]
  },
  {
   "cell_type": "markdown",
   "metadata": {},
   "source": [
    "#### Testing the method\n",
    "For our example graph, $\\mathbf{q}$ can be found by solving the homogenous linear equation $\\left(P-I\\right)\\mathbf{q}=0$ and choosing the free parameter such that $\\sum_{i=0}^{n-1}q_i=1$.\n",
    "\n",
    "$$ \\begin{aligned}\n",
    "\\mathbf{q}_{\\text{exact}}=&\\left[\\frac{1}{8}, \\frac{1}{4}, \\frac{5}{24}, \\frac{1}{6}, \\frac{1}{4}\\right]^T\\\\\n",
    "\\approx&[0.125, 0.25, 0.20833333, 0.16666667, 0.25 ]^T.\n",
    "\\end{aligned}$$\n",
    "You can use this to test your method. If everything works correctly, your code should return an approcimation of the exact vector.\n",
    "\n",
    "\n",
    "Increasing `N` should get you even closer to the exact vector."
   ]
  },
  {
   "cell_type": "code",
   "execution_count": null,
   "metadata": {},
   "outputs": [],
   "source": [
    "n = P.shape[0]    # The number of nodes\n",
    "x0 = np.ones(n)/n # initial probabilities: 1/n for every node\n",
    "N=100             # number of iterations\n",
    "\n",
    "q=pow_method(P,x0,N)\n",
    "print(q)"
   ]
  },
  {
   "cell_type": "markdown",
   "metadata": {},
   "source": [
    "### Task 3: NMBU Realtek\n",
    "In this task, you are going to test your implementation on a set of webpages and links. This set consists of webpages with an url starting with www.nmbu.no/fakultet/realtek and internal links between them (In January 2022). Dangling nodes have been removed.\n",
    "\n",
    "The adjacency matrix is stored in `adjacency_realtek.txt`, and the urls represented by each index in `keyvals.txt`.\n",
    "\n",
    "What are the top 5 webpages by PageRank on the RealTek webpages?\n",
    "\n",
    "Hint: `np.argsort` can be useful for answering this question."
   ]
  },
  {
   "cell_type": "code",
   "execution_count": null,
   "metadata": {},
   "outputs": [],
   "source": [
    "# Write your code here."
   ]
  },
  {
   "cell_type": "markdown",
   "metadata": {},
   "source": [
    "### Task 4: Additional challenges for the interested.\n",
    "\n",
    "a) In the power method implemented above, we specify the number of iterations. It would be better to iterate until \n",
    "$$\\|\\mathbf{x}_{k}-\\mathbf{x}_{k-1}\\|\\le Tol$$\n",
    "for some specified tolerance $Tol$. Implement a new function that does this.\n",
    "\n",
    "*Hint*: `np.linalg.norm` will be useful.\n",
    "For more efficient code, you should not compute the matrix-vector product $P\\mathbf{x}_{k-1}$ more than once per iteration.\n",
    "It is good practice to implement a maximum number of iterations, so your code doesn't get stuck in an infinite loop.\n",
    "\n",
    "b) The actual PageRank algorithm is more robust than what we have done here. By making some adjustments, it can handle dangling nodes (webpages without links) and other complications that may arise. Implement Adjustment 1 and 2 described in *Lay* Chapter 10.2.\n",
    "\n",
    "## Some additional remarks\n",
    "Our implementation only works for graphs with less than a few thousand nodes. For larger graphs, better implementations are needed. \n",
    "Adjacency matrices are usually sparse, that is, most of the entries are zero. Efficient matrix algorithms take advantage of this. In Python, the most used implementation of sparse matrices is scipy.sparse. See https://docs.scipy.org/doc/scipy/reference/sparse.html.\n",
    "\n",
    "Really efficient implementations of the PageRank algorithm never explicitly store the adjacency matrix or the transition matrix. It is possible to compute a matrix-vector product $P\\mathbf{x}$ using only the adjacency list (https://en.wikipedia.org/wiki/Adjacency_list) of the graph."
   ]
  },
  {
   "cell_type": "code",
   "execution_count": null,
   "metadata": {},
   "outputs": [],
   "source": []
  }
 ],
 "metadata": {
  "kernelspec": {
   "display_name": "Python 3 (ipykernel)",
   "language": "python",
   "name": "python3"
  },
  "language_info": {
   "codemirror_mode": {
    "name": "ipython",
    "version": 3
   },
   "file_extension": ".py",
   "mimetype": "text/x-python",
   "name": "python",
   "nbconvert_exporter": "python",
   "pygments_lexer": "ipython3",
   "version": "3.9.16"
  }
 },
 "nbformat": 4,
 "nbformat_minor": 4
}
