{
 "cells": [
  {
   "cell_type": "markdown",
   "metadata": {},
   "source": [
    "# Case 1: PageRank\n",
    "\n",
    "First, we need to import numpy to get access to all the functions we need:"
   ]
  },
  {
   "cell_type": "code",
   "execution_count": null,
   "metadata": {},
   "outputs": [],
   "source": [
    "import numpy as np"
   ]
  },
  {
   "cell_type": "markdown",
   "metadata": {},
   "source": [
    "We now import the adjacency matrix from the example. It is stored in `adjacency_example.txt`."
   ]
  },
  {
   "cell_type": "code",
   "execution_count": null,
   "metadata": {},
   "outputs": [],
   "source": [
    "A= np.loadtxt('adjacency_example.txt', dtype=int)\n",
    "print(A)"
   ]
  },
  {
   "cell_type": "markdown",
   "metadata": {},
   "source": [
    "## Task 1: Compute the transition matrix"
   ]
  },
  {
   "cell_type": "code",
   "execution_count": null,
   "metadata": {},
   "outputs": [],
   "source": [
    "def transition_matrix(A):\n",
    "    '''\n",
    "    transition_matrix(A):\n",
    "        Input: \n",
    "            A: Adjacency matrix \n",
    "        Output:\n",
    "            P: Transition matrix\n",
    "    '''\n",
    "    # Write your implementation here\n",
    "    return P"
   ]
  },
  {
   "cell_type": "markdown",
   "metadata": {},
   "source": [
    "Check if the transition_matrix function returns a stochastic matrix:"
   ]
  },
  {
   "cell_type": "code",
   "execution_count": null,
   "metadata": {},
   "outputs": [],
   "source": [
    "P=transition_matrix(A)\n",
    "np.allclose(np.sum(P, axis=0), 1) # Will return True if P is a stochastic matrix"
   ]
  },
  {
   "cell_type": "markdown",
   "metadata": {},
   "source": [
    "## Task 2: The power method\n",
    "Implement the power method. Your function should take as input the transition matrix, an initial vector of probabilities and the number of iterations of the power method should be used."
   ]
  },
  {
   "cell_type": "code",
   "execution_count": null,
   "metadata": {},
   "outputs": [],
   "source": [
    "def pow_method(P, v0, N):\n",
    "    '''\n",
    "    pow_method(P, v0, N):\n",
    "        Input: \n",
    "            P:   transition matrix\n",
    "            v0:  initial vector of probabilities\n",
    "            N:   number of iterations\n",
    "        Output:\n",
    "            v:   final vector of probabilities v=P^n * v0\n",
    "    '''\n",
    "    # Write your implementation here\n",
    "    return v"
   ]
  },
  {
   "cell_type": "markdown",
   "metadata": {},
   "source": [
    "### Testing the method"
   ]
  },
  {
   "cell_type": "code",
   "execution_count": null,
   "metadata": {},
   "outputs": [],
   "source": [
    "n = P.shape[0]    # The number of nodes\n",
    "x0 = np.ones(n)/n # initial probabilities: 1/n for every node\n",
    "N=100             # number of iterations\n",
    "\n",
    "q=pow_method(P,x0,N)\n",
    "print(q)"
   ]
  },
  {
   "cell_type": "markdown",
   "metadata": {},
   "source": [
    "If you have done everything correctly, the vector you get should be close to the exact steady-state vector\n",
    "$$ \\begin{aligned}\n",
    "\\mathbf{q}_{\\text{exact}}=&\\left[\\frac{1}{8}, \\frac{1}{4}, \\frac{5}{24}, \\frac{1}{6}, \\frac{1}{4}\\right]^T\\\\\n",
    "\\approx&[0.125, 0.25, 0.20833333, 0.16666667, 0.25 ]^T.\n",
    "\\end{aligned}$$\n",
    "\n",
    "Increasing `N` should get you even closer to the exact vector."
   ]
  },
  {
   "cell_type": "markdown",
   "metadata": {},
   "source": [
    "## Task 3: NMBU Realtek\n",
    "In this task, you are going to test your implementation on a set of webpages and links. This set consists of webpages with an url starting with www.nmbu.no/fakultet/realtek and internal links between them (In January 2022). Dangling nodes have been removed.\n",
    "\n",
    "The adjacency matrix is stored in `adjacency_realtek.txt`, and the urls represented by each index in `keyvals.txt`.\n",
    "\n",
    "What are the top 5 webpages by PageRank on the RealTek webpages?\n",
    "\n",
    "Hint: `np.argsort` can be useful for answering this question."
   ]
  },
  {
   "cell_type": "code",
   "execution_count": null,
   "metadata": {},
   "outputs": [],
   "source": [
    "# Write your code here."
   ]
  },
  {
   "cell_type": "markdown",
   "metadata": {},
   "source": [
    "## Task 4: Additional challenges for the interested.\n",
    "\n",
    "a) In the power method implemented above, we specify the number of iterations. It would be better to iterate until \n",
    "$$\\|\\vec{x}_{k}-\\vec{x}_{k-1}\\|\\le Tol$$\n",
    "for some specified tolerance $Tol$. Implement a new function that does this.\n",
    "\n",
    "*Hint*: `np.linalg.norm` will be useful.\n",
    "For more efficient code, you should not compute the matrix-vector product $\\mathbf{P}\\vec{x}_{k-1}$ more than once per iteration.\n",
    "It is good practice to implement a maximum number of iterations, so your code doesn't get stuck in an infinite loop.\n",
    "\n",
    "b) The actual PageRank algorithm is more robust than what we have done here. By making some adjustments, it can handle dangling nodes (webpages without links) and other complications that may arise. Implement Adjustment 1 and 2 described in *Lay* Chapter 10.2.\n",
    "\n",
    "## Some additional remarks\n",
    "Our implementation only works for graphs with less than a few thousand nodes. For larger graphs, better implementations are needed. Adjacency matrices are usually sparse, that is, most of the entries are zero. Efficient matrix algorithms take advantage of this. In Python, the most used implementation of sparse matrices is scipy.sparse. See https://docs.scipy.org/doc/scipy/reference/sparse.html.\n",
    "\n",
    "Really efficient implementations of the PageRank algorithm never explicitly store the adjacency matrix or the transition matrix. It is possible to compute a matrix-vector product $\\mathbf{P}\\mathbf{v}$ using only the adjacency list (https://en.wikipedia.org/wiki/Adjacency_list) of the graph."
   ]
  },
  {
   "cell_type": "code",
   "execution_count": null,
   "metadata": {},
   "outputs": [],
   "source": []
  }
 ],
 "metadata": {
  "kernelspec": {
   "display_name": "Python 3 (ipykernel)",
   "language": "python",
   "name": "python3"
  },
  "language_info": {
   "codemirror_mode": {
    "name": "ipython",
    "version": 3
   },
   "file_extension": ".py",
   "mimetype": "text/x-python",
   "name": "python",
   "nbconvert_exporter": "python",
   "pygments_lexer": "ipython3",
   "version": "3.9.7"
  }
 },
 "nbformat": 4,
 "nbformat_minor": 4
}
