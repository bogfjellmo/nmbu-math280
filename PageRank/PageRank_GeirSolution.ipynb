{
 "cells": [
  {
   "cell_type": "markdown",
   "metadata": {},
   "source": [
    "# Case 1: PageRank\n",
    "\n",
    "First, we need to import numpy to get access to all the functions we need:"
   ]
  },
  {
   "cell_type": "code",
   "execution_count": 1,
   "metadata": {},
   "outputs": [],
   "source": [
    "import numpy as np"
   ]
  },
  {
   "cell_type": "markdown",
   "metadata": {},
   "source": [
    "We now import the adjacency matrix from the example. It is stored in `adjacency_example.txt`."
   ]
  },
  {
   "cell_type": "code",
   "execution_count": 2,
   "metadata": {},
   "outputs": [
    {
     "name": "stdout",
     "output_type": "stream",
     "text": [
      "[[0 1 1 1 0]\n",
      " [0 0 0 0 1]\n",
      " [0 1 0 0 0]\n",
      " [0 0 1 0 0]\n",
      " [1 0 0 1 0]]\n"
     ]
    }
   ],
   "source": [
    "A= np.loadtxt('adjacency_example.txt', dtype=int)\n",
    "print(A)"
   ]
  },
  {
   "cell_type": "markdown",
   "metadata": {},
   "source": [
    "## Task 1: Compute the transition matrix"
   ]
  },
  {
   "cell_type": "code",
   "execution_count": 3,
   "metadata": {},
   "outputs": [],
   "source": [
    "def transition_matrix(A):\n",
    "    '''\n",
    "    transition_matrix(A):\n",
    "        Input: \n",
    "            A: Adjacency matrix \n",
    "        Output:\n",
    "            P: Transition matrix\n",
    "    '''\n",
    "    m = np.sum(A, axis=1)\n",
    "    n = m.size\n",
    "    m = m.reshape((n,1)) #Make m a nx1 array\n",
    "    C = A/m #C[i,j]=A[i,j]/m[i,1]\n",
    "    return C.T"
   ]
  },
  {
   "cell_type": "markdown",
   "metadata": {},
   "source": [
    "Check if the transition_matrix function returns a stochastic matrix:"
   ]
  },
  {
   "cell_type": "code",
   "execution_count": 4,
   "metadata": {},
   "outputs": [
    {
     "data": {
      "text/plain": [
       "True"
      ]
     },
     "execution_count": 4,
     "metadata": {},
     "output_type": "execute_result"
    }
   ],
   "source": [
    "P=transition_matrix(A)\n",
    "np.allclose(np.sum(P, axis=0), 1) # Will return True if P is a stochastic matrix"
   ]
  },
  {
   "cell_type": "markdown",
   "metadata": {},
   "source": [
    "## Task 2: The power method\n",
    "Implement the power method. Your function should take as input the transition matrix, an initial vector of probabilities and the number of iterations of the power method should be used."
   ]
  },
  {
   "cell_type": "code",
   "execution_count": 5,
   "metadata": {},
   "outputs": [],
   "source": [
    "def pow_method(P, v0, N):\n",
    "    '''\n",
    "    pow_method(P, v0, N):\n",
    "        Input: \n",
    "            P:   transition matrix\n",
    "            v0:  initial vector of probabilities\n",
    "            N:   number of iterations\n",
    "        Output:\n",
    "            v:   final vector of probabilities v=P^n * v0\n",
    "    '''\n",
    "    v=v0\n",
    "    for i in range(N):\n",
    "        v=P@v\n",
    "    return v"
   ]
  },
  {
   "cell_type": "markdown",
   "metadata": {},
   "source": [
    "### Testing the method"
   ]
  },
  {
   "cell_type": "code",
   "execution_count": 6,
   "metadata": {},
   "outputs": [
    {
     "name": "stdout",
     "output_type": "stream",
     "text": [
      "[0.12500122 0.24999806 0.20833086 0.16666739 0.25000247]\n"
     ]
    }
   ],
   "source": [
    "n = P.shape[0]    # The number of nodes\n",
    "x0 = np.ones(n)/n # initial probabilities: 1/n for every node\n",
    "N=100             # number of iterations\n",
    "\n",
    "q=pow_method(P,x0,N)\n",
    "print(q)"
   ]
  },
  {
   "cell_type": "markdown",
   "metadata": {},
   "source": [
    "If you have done everything correctly, the vector you get should be close to the exact steady-state vector\n",
    "$$ \\begin{aligned}\n",
    "\\mathbf{q}_{\\text{exact}}=&\\left[\\frac{1}{8}, \\frac{1}{4}, \\frac{5}{24}, \\frac{1}{6}, \\frac{1}{4}\\right]^T\\\\\n",
    "\\approx&[0.125, 0.25, 0.20833333, 0.16666667, 0.25 ]^T.\n",
    "\\end{aligned}$$\n",
    "\n",
    "Increasing `N` should get you even closer to the exact vector."
   ]
  },
  {
   "cell_type": "markdown",
   "metadata": {},
   "source": [
    "## Task 3: NMBU Realtek\n",
    "In this task, you are going to test your implementation on a set of webpages and links. This set consists of webpages with an url starting with www.nmbu.no/fakultet/realtek and internal links between them (In January 2022). Dangling nodes have been removed.\n",
    "\n",
    "The adjacency matrix is stored in `adjacency_realtek.txt`, and the urls represented by each index in `keyvals.txt`.\n",
    "\n",
    "What are the top 5 webpages by PageRank on the RealTek webpages?\n",
    "\n",
    "Hint: `np.argsort` can be useful for answering this question."
   ]
  },
  {
   "cell_type": "code",
   "execution_count": 9,
   "metadata": {},
   "outputs": [
    {
     "name": "stdout",
     "output_type": "stream",
     "text": [
      "Indices of highest ranked pages:\n",
      "[ 0  2 54 59 65 62 64 66 63 61]\n",
      "\n",
      "Links to highest ranked pages:\n",
      "https://www.nmbu.no/fakultet/realtek\n",
      "https://www.nmbu.no/fakultet/realtek/studier\n",
      "https://www.nmbu.no/fakultet/realtek/studier/student\n",
      "https://www.nmbu.no/fakultet/realtek/studier/student/semesterstart\n",
      "https://www.nmbu.no/fakultet/realtek/studier/student/semesterstart/ppu\n",
      "https://www.nmbu.no/fakultet/realtek/studier/student/semesterstart/imrt100\n",
      "https://www.nmbu.no/fakultet/realtek/studier/student/semesterstart/frie-realfag\n",
      "https://www.nmbu.no/fakultet/realtek/studier/student/semesterstart/data-science\n",
      "https://www.nmbu.no/fakultet/realtek/studier/student/semesterstart/h-yere-rstrinn\n",
      "https://www.nmbu.no/fakultet/realtek/studier/student/semesterstart/lektor\n"
     ]
    }
   ],
   "source": [
    "A=np.loadtxt('adjacency_realtek.txt', dtype=int)\n",
    "P=transition_matrix(A)\n",
    "n=A.shape[0]\n",
    "x0=np.ones(n)/n\n",
    "q=pow_method(P,x0,100)\n",
    "\n",
    "low_args=np.argsort(q) # smallest first\n",
    "high_args=np.flip(low_args) # highest first\n",
    "bestid=high_args[:10]\n",
    "\n",
    "keyvals=np.loadtxt('keyvalues.txt', dtype=str)\n",
    "print(\"Indices of highest ranked pages:\")\n",
    "print(bestid)\n",
    "\n",
    "print(\"\\nLinks to highest ranked pages:\")\n",
    "for u in bestid:\n",
    "    print(keyvals[u,1])"
   ]
  },
  {
   "cell_type": "markdown",
   "metadata": {},
   "source": [
    "## Task 4: Additional challenges for the interested.\n",
    "\n",
    "a) In the power method implemented above, we specify the number of iterations. It would be better to iterate until \n",
    "$$\\|\\mathbf{x}_{k}-\\mathbf{x}_{k-1}\\|\\le Tol$$\n",
    "for some specified tolerance $Tol$. Implement a new function that does this.\n",
    "\n",
    "*Hint*: `np.linalg.norm` will be useful.\n",
    "For more efficient code, you should not compute the matrix-vector product $P\\mathbf{x}_{k-1}$ more than once per iteration.\n",
    "It is good practice to implement a maximum number of iterations, so your code doesn't get stuck in an infinite loop.\n",
    "\n",
    "b) The actual PageRank algorithm is more robust than what we have done here. By making some adjustments, it can handle dangling nodes (webpages without links) and other complications that may arise. Implement Adjustment 1 and 2 described in *Lay* Chapter 10.2.\n",
    "\n",
    "## Some additional remarks\n",
    "Our implementation only works for graphs with less than a few thousand nodes. For larger graphs, better implementations are needed. Adjacency matrices are usually sparse, that is, most of the entries are zero. Efficient matrix algorithms take advantage of this. In Python, the most used implementation of sparse matrices is scipy.sparse. See https://docs.scipy.org/doc/scipy/reference/sparse.html.\n",
    "\n",
    "Really efficient implementations of the PageRank algorithm never explicitly store the adjacency matrix or the transition matrix. It is possible to compute a matrix-vector product $P\\mathbf{v}$ using only the adjacency list (https://en.wikipedia.org/wiki/Adjacency_list) of the graph."
   ]
  },
  {
   "cell_type": "code",
   "execution_count": 8,
   "metadata": {},
   "outputs": [],
   "source": [
    "def pow_method_tolerance(P, v0, tol):\n",
    "    '''\n",
    "    pow_method(P, v0, tol):\n",
    "        Input: \n",
    "            P:   transition matrix\n",
    "            v0:  initial vector of probabilities\n",
    "            tol: tolerance. Iteration stops when ||v-Pv||<tol\n",
    "        Output:\n",
    "            v:   final vector of probabilities v=P^n * v0\n",
    "    '''\n",
    "    v=v0\n",
    "    maxit=50000\n",
    "    for i in range(maxit):\n",
    "        vold=v\n",
    "        v=P@v\n",
    "        if np.linalg.norm(v-vold)<tol:\n",
    "            print('Convergence after '+str(i)+ ' iterations')\n",
    "            break\n",
    "    else: # Python for-else. else runs if the for-loop never breaks\n",
    "        print('No convergence')\n",
    "    \n",
    "    return v"
   ]
  },
  {
   "cell_type": "code",
   "execution_count": 9,
   "metadata": {},
   "outputs": [
    {
     "name": "stdout",
     "output_type": "stream",
     "text": [
      "Convergence after 151 iterations\n",
      "Indices of highest ranked pages:\n",
      "[ 0  2 54 59 65 62 64 66 63 61]\n",
      "\n",
      "Links to highest ranked pages:\n",
      "https://www.nmbu.no/fakultet/realtek\n",
      "https://www.nmbu.no/fakultet/realtek/studier\n",
      "https://www.nmbu.no/fakultet/realtek/studier/student\n",
      "https://www.nmbu.no/fakultet/realtek/studier/student/semesterstart\n",
      "https://www.nmbu.no/fakultet/realtek/studier/student/semesterstart/ppu\n",
      "https://www.nmbu.no/fakultet/realtek/studier/student/semesterstart/imrt100\n",
      "https://www.nmbu.no/fakultet/realtek/studier/student/semesterstart/frie-realfag\n",
      "https://www.nmbu.no/fakultet/realtek/studier/student/semesterstart/data-science\n",
      "https://www.nmbu.no/fakultet/realtek/studier/student/semesterstart/h-yere-rstrinn\n",
      "https://www.nmbu.no/fakultet/realtek/studier/student/semesterstart/lektor\n"
     ]
    }
   ],
   "source": [
    "q=pow_method_tolerance(P, x0, 1e-12)\n",
    "\n",
    "low_args=np.argsort(q) # smallest first\n",
    "high_args=np.flip(low_args) # highest first\n",
    "bestid=high_args[:10]\n",
    "\n",
    "keyvals=np.loadtxt('keyvalues.txt', dtype=str)\n",
    "print(\"Indices of highest ranked pages:\")\n",
    "print(bestid)\n",
    "\n",
    "print(\"\\nLinks to highest ranked pages:\")\n",
    "for u in bestid:\n",
    "    print(keyvals[u,1])"
   ]
  },
  {
   "cell_type": "code",
   "execution_count": null,
   "metadata": {},
   "outputs": [],
   "source": []
  }
 ],
 "metadata": {
  "kernelspec": {
   "display_name": "Python 3 (ipykernel)",
   "language": "python",
   "name": "python3"
  },
  "language_info": {
   "codemirror_mode": {
    "name": "ipython",
    "version": 3
   },
   "file_extension": ".py",
   "mimetype": "text/x-python",
   "name": "python",
   "nbconvert_exporter": "python",
   "pygments_lexer": "ipython3",
   "version": "3.9.16"
  }
 },
 "nbformat": 4,
 "nbformat_minor": 4
}
