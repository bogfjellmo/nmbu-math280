{
 "cells": [
  {
   "cell_type": "code",
   "execution_count": 1,
   "id": "28d55281",
   "metadata": {},
   "outputs": [],
   "source": [
    "import numpy as np\n",
    "import matplotlib.pyplot as plt"
   ]
  },
  {
   "cell_type": "markdown",
   "id": "773022ee",
   "metadata": {},
   "source": [
    "## Exercises 4.5.54, 4.6.19-20\n",
    "\n",
    "We have two sets of functions:\n",
    "$$\\mathcal{B}=\\{1, \\cos t, \\cos^2 t, \\cdots, \\cos^6 t\\}$$\n",
    "$$\\mathcal{C}=\\{1, \\cos t, \\cos 2t, \\cdots, \\cos 6t\\}$$\n",
    "\n",
    "We define $H=\\mathrm{span}(\\mathcal{B})$, and we know/can show that $\\mathcal{B}$ is a basis for $H$ (See exercise 4.3.48).\n",
    "\n",
    "### 4.54.a \n",
    "we have the following trigonometric identites expressing the functions in $\\mathcal{C}$ as linear combinations of the functions in $\\mathcal{B}$.\n",
    "\n",
    "(The first two are not given in the exercise.)\n",
    "$$\n",
    "\\begin{aligned}\n",
    "1 &=1\\\\\n",
    "\\cos t &= \\cos t\\\\\n",
    "\\cos 2t &= -1+2\\cos^2 t\\\\\n",
    "\\cos 3t &= -3\\cos t + 4\\cos^3 t\\\\\n",
    "\\cos 4t &= 1-8\\cos^2 t + 8\\cos^4 t\\\\\n",
    "\\cos 5t &= 5 \\cos t -20 \\cos^3 + 16 \\cos^5 t\\\\\n",
    "\\cos 6t &= -1 + 18 \\cos^2 t - 48 \\cos^4 t + 32 \\cos^6 t\n",
    "\\end{aligned}\n",
    "$$\n",
    "These identities give the $\\mathcal{B}$-coordinates of the functions in $\\mathcal{C}$.\n",
    "\n",
    "For example, \n",
    "$$\n",
    "\\begin{aligned}\n",
    "\\cos 3t &= -3\\cos t + 4\\cos^3 t\\\\\n",
    "        &= 0\\cdot  1+ (-3)\\cdot \\cos t + 0\\cdot \\cos^2 t + 4\\cdot \\cos^3 t + 0\\cdot \\cos^4 t + 0\\cdot \\cos^5 t + 0\\cdot \\cos^6 t\n",
    "\\end{aligned}\n",
    "$$\n",
    "So \n",
    "$$\n",
    "[\\cos 3t]_\\mathcal{B} = \\begin{bmatrix} 0 \\\\ -3 \\\\0 \\\\ 4 \\\\ 0 \\\\ 0 \\\\ 0 \\end{bmatrix}\n",
    "$$\n",
    "\n",
    "\n",
    "The $\\mathcal{B}$-coordinate vectors of all functions in $\\mathcal{C}$ are:\n",
    "$$\n",
    "\\begin{aligned}[]\n",
    "[ 1 ]_\\mathcal{B} &=       \\begin{bmatrix} 1 & 0 & 0 & 0 & 0 & 0 & 0\\end{bmatrix}^T \\\\\n",
    "[ \\cos  t]_\\mathcal{B} & = \\begin{bmatrix} 0 & 1 & 0 & 0 & 0 & 0 & 0\\end{bmatrix}^T \\\\ \n",
    "[ \\cos 2t]_\\mathcal{B} & = \\begin{bmatrix}-1 & 0 & 2 & 0 & 0 & 0 & 0\\end{bmatrix}^T \\\\\n",
    "[ \\cos 3t]_\\mathcal{B} & = \\begin{bmatrix} 0 &-3 & 0 & 4 & 0 & 0 & 0\\end{bmatrix}^T \\\\ \n",
    "[ \\cos 4t]_\\mathcal{B} & = \\begin{bmatrix} 1 & 0 &-8 & 0 & 8 & 0 & 0\\end{bmatrix}^T \\\\\n",
    "[ \\cos 5t]_\\mathcal{B} & = \\begin{bmatrix} 0 & 5 & 0 &-20 & 0 & 16 & 0\\end{bmatrix}^T \\\\ \n",
    "[ \\cos 6t]_\\mathcal{B} & = \\begin{bmatrix}-1 & 0 & 18& 0 & -48 & 0 & 32\\end{bmatrix}^T \\\\\n",
    "\\end{aligned}\n",
    "$$\n",
    "(The vectors are here written in transposed form, but they should really be column vectors.)\n",
    "\n",
    "For later use, we collect these in a matrix.\n",
    "$$P=\\begin{bmatrix}  [1]_\\mathcal{B} & [ \\cos  t]_\\mathcal{B} & \\dots & [ \\cos  6t]_\\mathcal{B}\\end{bmatrix},$$\n",
    "which we write in Python."
   ]
  },
  {
   "cell_type": "code",
   "execution_count": 2,
   "id": "aa4ab9a2",
   "metadata": {},
   "outputs": [
    {
     "name": "stdout",
     "output_type": "stream",
     "text": [
      "P=\n",
      "[[  1   0  -1   0   1   0  -1]\n",
      " [  0   1   0  -3   0   5   0]\n",
      " [  0   0   2   0  -8   0  18]\n",
      " [  0   0   0   4   0 -20   0]\n",
      " [  0   0   0   0   8   0 -48]\n",
      " [  0   0   0   0   0  16   0]\n",
      " [  0   0   0   0   0   0  32]]\n",
      "\n",
      "\n",
      "det(P)=32767.999999999985\n"
     ]
    }
   ],
   "source": [
    "P=np.array([[1, 0,-1, 0, 1,  0, -1],\n",
    "            [0, 1, 0,-3, 0,  5,  0],\n",
    "            [0, 0, 2, 0,-8,  0, 18],\n",
    "            [0, 0, 0, 4, 0,-20,  0],\n",
    "            [0, 0, 0, 0, 8,  0,-48],\n",
    "            [0, 0, 0, 0, 0, 16, 0 ],\n",
    "            [0, 0, 0, 0, 0,  0, 32]])\n",
    "\n",
    "print('P=\\n'+str(P))\n",
    "print('\\n')\n",
    "print('det(P)='+str(np.linalg.det(P)))"
   ]
  },
  {
   "cell_type": "markdown",
   "id": "f7671cbd",
   "metadata": {},
   "source": [
    "### 4.54.b\n",
    "\n",
    "How does $P$ tell us that $\\mathcal{C}$ is a basis for $H$?\n",
    "\n",
    "In general need to prove two things:\n",
    "1. That $\\mathcal{C}$ is linearly dependent\n",
    "2. That all functions in $H$ can be written as a linear combination of functions in $\\mathcal{C}$.\n",
    "\n",
    "In this case, we already have $\\mathcal{B}$ as a basis for $H$. So $\\dim H=7$, and since $\\mathcal{C}$ contains 7 vectors, it is sufficient to prove one of the conditions above. (See the Basis Theorem, p. 267 in Lay.)\n",
    "\n",
    "We will prove that $\\mathcal{C}$ is linearly independent.\n",
    "\n",
    "Assume that we have a linear combination of the functions in $\\mathcal{C}$ that is equal to the zero function, that is\n",
    "$$x_0+x_1\\cos t+ x_2\\cos 2t + \\dotsb +x_6 \\cos 6t=0,$$\n",
    "this is equality as functions, so the left hand side has to be zero for all $t$.\n",
    "\n",
    "We know that $\\mathcal{B}$ is a basis, so we can take $\\mathcal{B}$-coordinates on both sides:\n",
    "\n",
    "$$\n",
    "x_0[1]_\\mathcal{B}+ x_1 [\\cos t]_\\mathcal{B} + x_2 [\\cos 2t]_\\mathcal{B} + \\dotsb +x_6 [\\cos 6t]_\\mathcal{B} =[0]_\\mathcal{B}\n",
    "$$\n",
    "or\n",
    "$$\n",
    "P\\mathbf{x}=\\mathbf{0}\n",
    "$$\n",
    "where $\\mathbf{x}=[x_0, x_1, \\dotsc, x_6]$.\n",
    "\n",
    "This is a quadratic homogenous system of linear equations, and we can use the invertible matrix theorem.\n",
    "\n",
    "$P\\mathbf{x}=\\mathbf{0}$ has non-zero solutions if and only if $P$ is singular/noninvertible.\n",
    "\n",
    "In our case, $P$ is invertible, so the only solution is $\\mathbf{x}=\\mathbf{0}$.\n",
    "\n",
    "In other words, the only linear combination of the functions in $\\mathcal{C}$ that is equal to the zero function is the trivial one\n",
    "$$0\\cdot 1+ 0\\cdot \\cos t + \\dotsb + 0\\cdot \\cos 6t=0$$\n",
    "proving that $\\mathcal{C}$ is linearly independent."
   ]
  },
  {
   "cell_type": "markdown",
   "id": "7a659fe6",
   "metadata": {},
   "source": [
    "#### Further comments\n",
    "\n",
    "What the matrix $P$ does is to transform a basis vector relative to $\\mathcal{C}$ to a basis vector relative to $\\mathcal{B}.$\n",
    "\n",
    "For example, let $f(t) = 1+ 2\\cos t + \\cos 2t $.\n",
    "\n",
    "Then \n",
    "$$[ f ]_\\mathcal{C}=\\begin{bmatrix} 1 \\\\ 2 \\\\ 1 \\\\0 \\\\0\\\\0\\\\0\\end{bmatrix}$$\n",
    "and\n",
    "$$[ f ]_\\mathcal{B} = P[ f ]_\\mathcal{C}$$\n",
    "which we compute using Python."
   ]
  },
  {
   "cell_type": "code",
   "execution_count": 3,
   "id": "a99b2e69",
   "metadata": {},
   "outputs": [
    {
     "name": "stdout",
     "output_type": "stream",
     "text": [
      "[f]_B=[0 2 2 0 0 0 0]\n"
     ]
    }
   ],
   "source": [
    "f_coord_c=np.array([1,2,1,0,0,0,0])\n",
    "f_coord_b=P.dot(f_coord_c)\n",
    "print('[f]_B='+str(f_coord_b))"
   ]
  },
  {
   "cell_type": "markdown",
   "id": "eaad2408",
   "metadata": {},
   "source": [
    "Let us check that we indeed have the same function:\n",
    "\n",
    "(Don't worry too much if you don't understand the Python code here. Broadcasting rules are used to avoid loops)"
   ]
  },
  {
   "cell_type": "code",
   "execution_count": 4,
   "id": "e05699d1",
   "metadata": {},
   "outputs": [
    {
     "data": {
      "text/plain": [
       "<matplotlib.legend.Legend at 0x1579fd92940>"
      ]
     },
     "execution_count": 4,
     "metadata": {},
     "output_type": "execute_result"
    },
    {
     "data": {
      "image/png": "[encoded data removed]",
      "text/plain": [
       "<Figure size 640x480 with 1 Axes>"
      ]
     },
     "metadata": {},
     "output_type": "display_data"
    }
   ],
   "source": [
    "B=lambda t: np.cos(t)**(np.arange(0, 7))  # B(t) = [1; cos(t); cos^2(t);...; cos^6(t)]\n",
    "C=lambda t: np.cos(np.arange(0,7)*t)     # C(t) = [1; cos(t); cos(2t); ...; cos(6t)]\n",
    "trange=np.linspace(0, 2*np.pi)\n",
    "fc=C(trange[:, None]).dot(f_coord_c)  # 1 + 2cos(t)+ cos(2t)\n",
    "fb=B(trange[:, None]).dot(f_coord_b)  # 2cos(t) + 2cos^2(t)\n",
    "\n",
    "plt.plot(trange,fb, trange,fc)\n",
    "plt.legend([\"$1+2\\cos t+ \\cos(2t)$\", \"$2\\cos(t) + 2\\cos^2(t)$\"])"
   ]
  },
  {
   "cell_type": "markdown",
   "id": "eaa9a05e",
   "metadata": {},
   "source": [
    "The plots are overlapping, which we should expect from two representations of the same function."
   ]
  },
  {
   "cell_type": "markdown",
   "id": "24a2ee6b",
   "metadata": {},
   "source": [
    "### 4.6.19 a.\n",
    "Recall that\n",
    "$$\\mathcal{B}=\\{1, \\cos t, \\cos^2 t, \\cdots, \\cos^6 t\\}$$\n",
    "$$\\mathcal{C}=\\{1, \\cos t, \\cos 2t, \\cdots, \\cos 6t\\}$$\n",
    "\n",
    "We computed $P$ already\n",
    "$$\\underset{\\mathcal{B}\\leftarrow\\mathcal{C}}{P}=P$$"
   ]
  },
  {
   "cell_type": "code",
   "execution_count": 5,
   "id": "d6047ff4",
   "metadata": {},
   "outputs": [
    {
     "name": "stdout",
     "output_type": "stream",
     "text": [
      "P=\n",
      "[[  1   0  -1   0   1   0  -1]\n",
      " [  0   1   0  -3   0   5   0]\n",
      " [  0   0   2   0  -8   0  18]\n",
      " [  0   0   0   4   0 -20   0]\n",
      " [  0   0   0   0   8   0 -48]\n",
      " [  0   0   0   0   0  16   0]\n",
      " [  0   0   0   0   0   0  32]]\n"
     ]
    }
   ],
   "source": [
    "print('P=\\n'+str(P))"
   ]
  },
  {
   "cell_type": "markdown",
   "id": "015e5023",
   "metadata": {},
   "source": [
    "To go the other way, we can use the inverse matrix $$\\underset{\\mathcal{B}\\leftarrow\\mathcal{C}}{P}=P^{-1}.$$"
   ]
  },
  {
   "cell_type": "code",
   "execution_count": 6,
   "id": "b0e9596e",
   "metadata": {},
   "outputs": [
    {
     "name": "stdout",
     "output_type": "stream",
     "text": [
      "P^(-1)=\n",
      "[[ 1.       0.       0.5      0.       0.375    0.       0.3125 ]\n",
      " [ 0.       1.       0.       0.75     0.       0.625    0.     ]\n",
      " [ 0.       0.       0.5      0.       0.5      0.       0.46875]\n",
      " [ 0.       0.       0.       0.25     0.       0.3125  -0.     ]\n",
      " [ 0.       0.       0.       0.       0.125    0.       0.1875 ]\n",
      " [ 0.       0.       0.       0.       0.       0.0625  -0.     ]\n",
      " [-0.      -0.      -0.      -0.      -0.      -0.       0.03125]]\n"
     ]
    }
   ],
   "source": [
    "Pinv=np.linalg.inv(P)\n",
    "print('P^(-1)=\\n'+str(Pinv))"
   ]
  },
  {
   "cell_type": "markdown",
   "id": "b0b1a12d",
   "metadata": {},
   "source": [
    "In practice, we rarely need $P^{-1}$. If we want to compute $[f]_\\mathcal{C}$ given $[f]_\\mathcal{B}$, we can just use `np.linalg.solve`"
   ]
  },
  {
   "cell_type": "code",
   "execution_count": 7,
   "id": "7eae4268",
   "metadata": {},
   "outputs": [
    {
     "name": "stdout",
     "output_type": "stream",
     "text": [
      "[f]_C=[ 1.  2.  1.  0.  0.  0. -0.]\n"
     ]
    }
   ],
   "source": [
    "f_coord_c_new=np.linalg.solve(P, f_coord_b)\n",
    "print('[f]_C='+str(f_coord_c_new))"
   ]
  },
  {
   "cell_type": "markdown",
   "id": "d3289efb",
   "metadata": {},
   "source": [
    "### 4.6.19 b.\n",
    "\n",
    "The columns of $P^{-1}$ are the $\\mathcal{C}$-coordinates of the vectors in $\\mathcal{B}$. \n",
    "For example, the 4th (using 0-indexing) column of $P^{-1}$ tells us $[\\cos^4 t]_\\mathcal{C}$. "
   ]
  },
  {
   "cell_type": "code",
   "execution_count": 8,
   "id": "d03855d3",
   "metadata": {},
   "outputs": [
    {
     "name": "stdout",
     "output_type": "stream",
     "text": [
      "[ 0.375  0.     0.5    0.     0.125  0.    -0.   ]\n"
     ]
    }
   ],
   "source": [
    "print(Pinv[:,4])"
   ]
  },
  {
   "cell_type": "markdown",
   "id": "b435522b",
   "metadata": {},
   "source": [
    "which means that\n",
    "$$\n",
    "\\cos^{4} t = 0.375+0.5\\cos 2t + 0.125 \\cos 4t.\n",
    "$$\n",
    "Or in exact arithmetic\n",
    "$$\n",
    "\\cos^4 t =\\frac{3}{8}+\\frac{1}{2}\\cos 2t +\\frac{1}{8}\\cos 4t\n",
    "$$"
   ]
  },
  {
   "cell_type": "markdown",
   "id": "7218e388",
   "metadata": {},
   "source": [
    "### 4.6.20\n",
    "\n",
    "The integral is\n",
    "$$\\int g(t) dt,$$\n",
    "where\n",
    "$$g(t)=5\\cos^3 t - 6\\cos^4 t +5\\cos^5 t-12\\cos^6 t. $$\n",
    "$g(t)$ is written as a linear combination of the functions in\n",
    "$$\\mathcal{B}=\\{1, \\cos t, \\cos^2 t, \\cdots, \\cos^6 t\\}.$$\n",
    "\n",
    "Integrating the functions on $\\mathcal{B}$ is tedious, but we can use our change-of-coordinates matrix to rewrite $g(t)$ in the basis \n",
    "$$\\mathcal{C}=\\{1, \\cos t, \\cos 2t, \\cdots, \\cos 6t\\},$$\n",
    "where integration is much easier.\n",
    "\n",
    "$$[g]_\\mathcal{B}= \\begin{bmatrix} 0 & 0 & 0 & 5 & -6 & 5 & -12\\end{bmatrix}^T$$\n",
    "and we can compute\n",
    "$$[g]_\\mathcal{C}=P^{-1} [g]_\\mathcal{B}$$"
   ]
  },
  {
   "cell_type": "code",
   "execution_count": 9,
   "id": "cf855574",
   "metadata": {},
   "outputs": [
    {
     "name": "stdout",
     "output_type": "stream",
     "text": [
      "[g]_C=[1.5    6.875  2.625  2.8125 1.5    0.3125 0.375 ]\n"
     ]
    }
   ],
   "source": [
    "g_coord_b= np.array([0,0,0,5,-6,5,12])\n",
    "g_coord_c=np.linalg.solve(P, g_coord_b)\n",
    "print('[g]_C=' +str(g_coord_c))"
   ]
  },
  {
   "cell_type": "markdown",
   "id": "9cb63cfc",
   "metadata": {},
   "source": [
    "This tells us that \n",
    "$$g(t) =1.5+6.875\\cos t+2.625\\cos 2t + 2.8125\\cos 3t+ 1.5\\cos 4t  + 0.3125\\cos 5t + 0.375\\cos 6t$$\n",
    "\n",
    "Now we can integrate using $\\int \\cos at dt=\\frac{\\sin at}{a}+C$\n",
    "$$\\int g(t) dt = 1.5t+6.875\\sin t+2.625\\frac{\\sin 2t}{2} + 2.8125\\frac{\\sin 3t}{3}+ 1.5\\frac{\\sin 4t}{4}  + 0.3125\\frac{\\sin 5t}{5} + 0.375\\frac{\\sin 6t}{6}+C$$"
   ]
  },
  {
   "cell_type": "code",
   "execution_count": null,
   "id": "0369b050",
   "metadata": {},
   "outputs": [],
   "source": []
  }
 ],
 "metadata": {
  "kernelspec": {
   "display_name": "Python 3 (ipykernel)",
   "language": "python",
   "name": "python3"
  },
  "language_info": {
   "codemirror_mode": {
    "name": "ipython",
    "version": 3
   },
   "file_extension": ".py",
   "mimetype": "text/x-python",
   "name": "python",
   "nbconvert_exporter": "python",
   "pygments_lexer": "ipython3",
   "version": "3.9.16"
  }
 },
 "nbformat": 4,
 "nbformat_minor": 5
}
